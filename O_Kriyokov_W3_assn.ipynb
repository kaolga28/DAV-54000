{
 "cells": [
  {
   "cell_type": "code",
   "execution_count": 1,
   "metadata": {},
   "outputs": [
    {
     "name": "stdout",
     "output_type": "stream",
     "text": [
      "The index of cars with medium price is: [6, 16, 20, 23, 26, 29]\n"
     ]
    }
   ],
   "source": [
    "#1. Read csv file\n",
    "import csv\n",
    "\n",
    "\n",
    "with open('C:\\YU_Python/cars-sample35.txt') as csvfile:\n",
    "    readCSV = csv.reader(csvfile)\n",
    "    \n",
    "    Prices = []\n",
    "    Maintenance_costs = []\n",
    "    Number_of_doors = []\n",
    "    Number_of_passengers = []\n",
    "    Luggage_capacity = []\n",
    "    Safety_rating = []\n",
    "    Classification_of_vehicle = []\n",
    "    \n",
    "    for row in readCSV:  # defining the elements index\n",
    "        Price = row[0]\n",
    "        Maint_cost = row[1]\n",
    "        Num_doors = row[2]\n",
    "        Num_passengers = row[3]\n",
    "        Luggage_cap = row[4]\n",
    "        Safet_rat = row[5]\n",
    "        Class_vehicle = row[6]\n",
    "   \n",
    "        Prices.append(Price)         # store each column in a set     \n",
    "        Maintenance_costs.append(Maint_cost)\n",
    "        Number_of_doors.append(Num_doors)\n",
    "        Number_of_passengers.append(Num_passengers)\n",
    "        Luggage_capacity.append(Luggage_cap)\n",
    "        Safety_rating.append(Safet_rat)\n",
    "        Classification_of_vehicle.append(Class_vehicle) \n",
    "    \n",
    "        \n",
    "# Task1: Present all values where price = 'med'\n",
    "# Used comprehension statement to find all prices with value - med \n",
    "# Note: This is the same task as I did on last assignment - copies from there since I already used list comprehension\n",
    "    \n",
    "    priceIndex = [i for i, x in enumerate(Prices) if x == \"med\"]\n",
    "\n",
    "    print('The index of cars with medium price is:', priceIndex)\n"
   ]
  },
  {
   "cell_type": "code",
   "execution_count": 2,
   "metadata": {},
   "outputs": [
    {
     "name": "stdout",
     "output_type": "stream",
     "text": [
      "Value for number of passengers is: ['more', '2', '2', '2', '4', '2']\n"
     ]
    }
   ],
   "source": [
    "# Task2:\"number of passengers\" value for each auto having a \"price\" value of \"med\" \n",
    "numPassenger = []\n",
    "numPassenger = [(Number_of_passengers[x]) for x in priceIndex ] #looping on values in priceIndex set, finding the values \n",
    "                                                                # of number of passengers where priceIndex='med'\n",
    "\n",
    "print('Value for number of passengers is:', numPassenger)\n"
   ]
  },
  {
   "cell_type": "code",
   "execution_count": 3,
   "metadata": {},
   "outputs": [
    {
     "name": "stdout",
     "output_type": "stream",
     "text": [
      "Your index value is: [0, 1, 2, 27, 31]\n"
     ]
    }
   ],
   "source": [
    "# Task3: find the index value for each automobile having a price value of \"high\" and a maintenance value that\n",
    "#is not \"low\" \n",
    "\n",
    "import csv\n",
    "\n",
    "with open('C:\\YU_Python/cars-sample35.txt') as csvfile:\n",
    "    readCSV = csv.reader(csvfile) \n",
    "    price1 = 'high'  #define 2 variables that will hold the values we were looking\n",
    "    maintValue = 'low'\n",
    "    \n",
    "    #loop into the rows in the file, find the metching and retirn the index = row number\n",
    "    priceMaintain = [index for index, row in enumerate(readCSV) if row[0] == price1 and row[1] != maintValue]\n",
    "    print(\"Your index value is:\", priceMaintain) \n",
    "    "
   ]
  },
  {
   "cell_type": "code",
   "execution_count": 5,
   "metadata": {},
   "outputs": [
    {
     "name": "stdout",
     "output_type": "stream",
     "text": [
      "Your nested list is: [1, 2, 3, 'A', 'B', 'C', 4, 5, 'D', 'E']\n"
     ]
    }
   ],
   "source": [
    "#task 4: implement this same logic using a list comprehension. Apply your list comprehension to the nlist\n",
    "#list of lists shown above.\n",
    "\n",
    "nlist = [ [1, 2, 3], ['A', 'B', 'C'], [4, 5], ['D', 'E'] ]\n",
    "\n",
    "nlist = [y for x in nlist for y in x]  #example was based on this: https://stackoverflow.com/questions/18072759/list-comprehension-on-a-nested-list\n",
    "\n",
    "print(\"Your nested list is:\",nlist)\n"
   ]
  },
  {
   "cell_type": "code",
   "execution_count": 6,
   "metadata": {},
   "outputs": [
    {
     "name": "stdout",
     "output_type": "stream",
     "text": [
      "Please enter a wanted number: Choose options: prices press 1,maintenance costs - 2, Number of doors - 3,Number of passengers - 4,Luggage capacity - 5,Safety rating -6,Classification of vehicle - 7 1\n",
      "Please enter a wanted number of values: 2\n"
     ]
    },
    {
     "data": {
      "text/plain": [
       "{'A0': 'high', 'A1': 'high'}"
      ]
     },
     "execution_count": 6,
     "metadata": {},
     "output_type": "execute_result"
    }
   ],
   "source": [
    "#task 5- create a dictionary from list using function\n",
    "import csv\n",
    "\n",
    "\n",
    "with open('C:\\YU_Python/cars-sample35.txt') as csvfile:\n",
    "    readCSV = csv.reader(csvfile)\n",
    "    \n",
    "    Prices = []\n",
    "    Maintenance_costs = []\n",
    "    Number_of_doors = []\n",
    "    Number_of_passengers = []\n",
    "    Luggage_capacity = []\n",
    "    Safety_rating = []\n",
    "    Classification_of_vehicle = []\n",
    "    \n",
    "    for row in readCSV:  # defining the elements index\n",
    "        Price = row[0]\n",
    "        Maint_cost = row[1]\n",
    "        Num_doors = row[2]\n",
    "        Num_passengers = row[3]\n",
    "        Luggage_cap = row[4]\n",
    "        Safet_rat = row[5]\n",
    "        Class_vehicle = row[6]\n",
    "   \n",
    "        Prices.append(Price)         # store each column in a set     \n",
    "        Maintenance_costs.append(Maint_cost)\n",
    "        Number_of_doors.append(Num_doors)\n",
    "        Number_of_passengers.append(Num_passengers)\n",
    "        Luggage_capacity.append(Luggage_cap)\n",
    "        Safety_rating.append(Safet_rat)\n",
    "        Classification_of_vehicle.append(Class_vehicle) \n",
    "    \n",
    "\n",
    "def makedict(mylist, x):\n",
    "    #Check to make sure x does not exceed length of the list \n",
    "    if(x>len(mylist)):\n",
    "        x=len(mylist)\n",
    "        \n",
    "    newdict = {}\n",
    "    \n",
    "    #For each element in the list\n",
    "    for index in range(x):\n",
    "        # new entry in the dictionary with key=A+index \n",
    "        newdict['A'+str(index)]=mylist[index]\n",
    "        \n",
    "    return newdict\n",
    "\n",
    "\n",
    "#I've created a new function to get the users input so he will chose what types of lists and number ofelements he wants\n",
    "def makedictInput():\n",
    "    mylist = input(\"Please enter a wanted number: Choose options: prices press 1,maintenance costs - 2, Number of doors - 3,Number of passengers - 4,Luggage capacity - 5,Safety rating -6,Classification of vehicle - 7 \")\n",
    "    x = int(input(\"Please enter a wanted number of values: \"))\n",
    "    \n",
    "    if mylist == '1':\n",
    "        mylist = Prices\n",
    "    elif mylist == '2':\n",
    "        mylist = Maintenance_costs\n",
    "    elif mylist == '3': \n",
    "        mylist = Number_of_doors\n",
    "    elif mylist == '4':\n",
    "        mylist = Number_of_passengers\n",
    "    elif mylist == '5':\n",
    "        mylist = Luggage_capacity\n",
    "    elif mylist == '6':\n",
    "        mylist = Safety_rating\n",
    "    elif mylist == '7':\n",
    "        mylist = Classification_of_vehicle\n",
    "    \n",
    "    newdict=makedict(mylist,x)\n",
    "    return newdict\n",
    "\n",
    "makedictInput()\n",
    "\n",
    "#I have to mentioned that I wasn't sure if I did extra or this was the purpuse, but it took lots of time to figure those 2 functions :\\\n",
    "\n",
    "\n"
   ]
  },
  {
   "cell_type": "code",
   "execution_count": 18,
   "metadata": {},
   "outputs": [
    {
     "data": {
      "text/plain": [
       "{'A0': 'med',\n",
       " 'A1': 'small',\n",
       " 'A2': 'big',\n",
       " 'A3': 'big',\n",
       " 'A4': 'med',\n",
       " 'A5': 'small',\n",
       " 'A6': 'med'}"
      ]
     },
     "execution_count": 18,
     "metadata": {},
     "output_type": "execute_result"
    }
   ],
   "source": [
    "makedict(Luggage_capacity,7) # I didnt add any coments since this was obcious, just running the function"
   ]
  },
  {
   "cell_type": "code",
   "execution_count": 15,
   "metadata": {},
   "outputs": [
    {
     "name": "stdout",
     "output_type": "stream",
     "text": [
      "med\n"
     ]
    }
   ],
   "source": [
    "Luggage_capacity_dict = makedict(Luggage_capacity,7)\n",
    "print(Luggage_capacity_dict['A4'])"
   ]
  },
  {
   "cell_type": "code",
   "execution_count": 16,
   "metadata": {},
   "outputs": [
    {
     "data": {
      "text/plain": [
       "{'A0': 'high',\n",
       " 'A1': 'high',\n",
       " 'A2': 'high',\n",
       " 'A3': 'high',\n",
       " 'A4': 'vhigh',\n",
       " 'A5': 'low',\n",
       " 'A6': 'med'}"
      ]
     },
     "execution_count": 16,
     "metadata": {},
     "output_type": "execute_result"
    }
   ],
   "source": [
    "# task 6 create two new dict objects containing the first seven\n",
    "#elements of the ‘Price’ and ‘Luggage’ lists, respectively.\n",
    "# use these dict objects to tell us the price and luggage\n",
    "#capacity of the auto identified by the ‘A4’ key value\n",
    "\n",
    "makedict(Prices,7)\n"
   ]
  },
  {
   "cell_type": "code",
   "execution_count": 17,
   "metadata": {},
   "outputs": [
    {
     "name": "stdout",
     "output_type": "stream",
     "text": [
      "vhigh\n"
     ]
    }
   ],
   "source": [
    "Prices_dict = makedict(Prices,7)\n",
    "print(Prices_dict['A4'])"
   ]
  },
  {
   "cell_type": "code",
   "execution_count": null,
   "metadata": {
    "collapsed": true
   },
   "outputs": [],
   "source": []
  }
 ],
 "metadata": {
  "kernelspec": {
   "display_name": "Python 3",
   "language": "python",
   "name": "python3"
  },
  "language_info": {
   "codemirror_mode": {
    "name": "ipython",
    "version": 3
   },
   "file_extension": ".py",
   "mimetype": "text/x-python",
   "name": "python",
   "nbconvert_exporter": "python",
   "pygments_lexer": "ipython3",
   "version": "3.6.2"
  }
 },
 "nbformat": 4,
 "nbformat_minor": 2
}
