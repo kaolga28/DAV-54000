{
 "cells": [
  {
   "cell_type": "markdown",
   "metadata": {},
   "source": [
    "# America's Gun Culture\n",
    "## DAV 5400 Final Project Proposal\n",
    "### Group Project - By Adva Assraf, Olga Kriyokov"
   ]
  },
  {
   "cell_type": "markdown",
   "metadata": {},
   "source": [
    "## Introduction"
   ]
  },
  {
   "cell_type": "markdown",
   "metadata": {},
   "source": [
    "\n",
    "Gun control is a well-known and well- criticized controversial issue that has been on the news headlines for many years now. There have been countless debates whether or not the U.S. should enforce more gun control laws, especially due to the fact that in recent years the number of gun violence incidents has been on the rise. \n",
    "\n",
    "Nowadays, the U.S. has 120.5 guns per 100 people (about 393,347,000 guns in total) which is the highest per capital number in the world. It is recorded that 30% of Americans own one or more guns and 11% live with someone who does. (https://everytownresearch.org/gun-violence-america/, https://www.pewresearch.org/fact-tank/2018/12/27/facts-about-guns-in-united-states/)\n",
    "The effects of gun violence are tremendous; Every day, 100 Americans are killed with guns and hundreds more are shot and injured. Furthermore, there are many more who have been mentally affected due to the fact that they have witnesses gun violence incidents. \n",
    "\n",
    "In 2018, more people have died from firearm injuries in the U.S. than in any other year since 1968. In 2017, there were around 16,146 deaths caused by guns. (http://time.com/5479993/gun-deaths-us-cdc/)\n",
    "It seems that gun violence shapes the lives of millions of Americans who have witnessed it or know someone who was involved in a gun violence incident.  As of today, gun violence in the U.S. constitutes a serious public health crisis, causing more than 30,000 deaths annually. \n",
    "\n",
    "Additionally, we decided to present some of the terrifying facts about America’s gun culture :\n",
    "\n",
    "•\tApproximately three million American children witness gun violence every year.\n",
    "( https://www.statista.com/statistics/215395/number-of-total-firearms-manufactured-in-the-us/\n",
    "https://everytownresearch.org/gun-violence-america/ )\n",
    "\n",
    "•\tNearly 1,700 children and teens die by gun homicide every year. ( https://www.statista.com/statistics/215395/number-of-total-firearms-manufactured-in-the-us/\n",
    "https://everytownresearch.org/gun-violence-america/ ) \n",
    "\n",
    "•\t11,497,441 firearms were manufactured in the US in 2016.(https://everytownresearch.org/gun-violence-america/)\n",
    "\n",
    "•\tAccording to the 2017 Pew study, 30% of Americans own guns themselves (12 points lower than the 42% who live in households with guns)\n",
    "(https://www.cnn.com/2018/02/15/politics/guns-dont-know-how-many-america/index.html)\n",
    "\n",
    "\n",
    "\n",
    "Alarming as the gun violence situation in the U.S. is, it seems that there has been little research about it in the past. That might be due to the fact that the issue has been off limits at the CDC (The Centers for Disease Control and Prevention). \n",
    "\n",
    "However, that might change very soon; appropriators from the Democratic House have recently allocated $50 million to study the gun violence culture in the U.S. (https://www.politico.com/story/2019/04/29/house-gun-violence-study-1292456). \n",
    "\n",
    "In addition to the above, a new bill was passed earlier this year by the House Democrats that aim to mandate federal background checks on all gun sales, an initiative that might limit the sales of guns across the U.S. (https://www.congress.gov/bill/116th-congress/house-bill/8). \n",
    "\n",
    "Before the CDC releases their findings and prior to a social change that is due to come in the near future, we wanted to dive deeper into the data in order to research the correlation between gun sales and gun violence incidents. In this research we will explore the different gunshot incidents that occurred in the U.S. between January 2014 and March 2018 and the gun sale evolution between those years. \n",
    "The main purpose of this research is to analyze the U.S. gun culture and how it has affected millions of people throughout the years.   \n",
    "\n",
    "\n"
   ]
  },
  {
   "cell_type": "markdown",
   "metadata": {},
   "source": [
    "# Research Questions"
   ]
  },
  {
   "cell_type": "markdown",
   "metadata": {},
   "source": [
    "1.\tHow have gun sales changed between the years of 2014- 2018? \n",
    "\n",
    "2.\t Which states have the highest number of guns sales between the years of 2014- 2018?\n",
    "\n",
    "3.\tWhich states have highest gun violence incidents between the years of 2014- 2018?\n",
    "\n",
    "4.\tHow have gun incidents occurrence changed between the years of 2014- 2018?\n",
    "\n",
    "5.\tIs there a correlation between the number of permits allocated to each State and the number of gun violence incidents that occurred in that State?\n",
    "\n",
    "6. Are gun sales likely to increase in 2019?\n"
   ]
  },
  {
   "cell_type": "markdown",
   "metadata": {},
   "source": [
    "## Data sources"
   ]
  },
  {
   "cell_type": "markdown",
   "metadata": {},
   "source": [
    "1. https://www.kaggle.com/addavner/shootgun#nics-firearm-background-checks.csv\n",
    "\n",
    "Evolution of gun sales between 2007-2018; this dataset is in a format of a CSV file and contains data on types of weapons and their permits in different U.S. states. \n",
    "\n",
    "\n",
    "2. https://www.gunviolencearchive.org\n",
    "\n",
    "The Gun Violence Archive (GVA) is a non-profit organization that provides free online public access to gun-related violence data in the U.S. All of the gun violence incidents that took place between the years of 2014- 2018 are recorded. "
   ]
  },
  {
   "cell_type": "markdown",
   "metadata": {},
   "source": [
    "## Approach"
   ]
  },
  {
   "cell_type": "markdown",
   "metadata": {},
   "source": [
    "The first step of our data research will be to clean the data and then perform data wrangling in order to transform and map the “raw” data into an organized dataset. \n",
    "The first data source mentioned above will be easier to clean and manipulate due to the fact that it is in a CSV format; we will clean the data, check for missing values and reassign column names if needed. \n",
    "\n",
    "For the second data source we will use web scrapping due to the fact that the current “Export to CSV” function on the GVA website is missing crucial functionality which leads to too many missing fields. We will start by inspecting the html code of the website- https://www.gunviolencearchive.org/reports. In addition, we will look into the ‘href’ tag. We will export all data to a csv file which will be uploaded to Github. \n",
    "\n",
    "Tasks to be assigned –we decided that we will share all work as in past assignments.\n",
    "\n",
    "Statistical analysis and visualization\n",
    "\n",
    "1. How have gun sales changed between the years of 2014- 2018? \n",
    "\n",
    " To be able to answer this questions, we will use a time series chart. In this chart, we will display the fluctuation of gun sales during the different years. We will attempt to use dynamic chart, so that the reader will be able to drill down to monthly/weekly resolution as he desire. \n",
    "\n",
    "\n",
    "2.\tWhich states have the highest number of guns sales between the years of 2014- 2018?\n",
    "Since the answer to question number 4 aims to compare and contrasts between the states, we will present the data in a form of a bar chart. \n",
    "\n",
    "\n",
    "\n",
    "3. Which states have highest gun violence incidents between the years of 2014- 2018?\n",
    "In this question, we will use dynamic Geo Map to differentiate between the states and showing the states with highest number of incidents.  \n",
    "\n",
    "\n",
    "4. How have gun incidents occurrence changed between the years of 2014- 2018? \n",
    "As in the question above, we will use the same visualization method. We will present the gun incident analysis in a time series line chart. In this chart we will present number of incidents throughout the years.\n",
    "\n",
    "\n",
    "5. Is there a correlation between citizen gun ownership and shooting incident location?\n",
    "For this question, we will present the data in a form of a scatterplot due to the fact that it will summarize the correlation coefficient of the association between the two variables in the best way.\n",
    "\n",
    "\n",
    "6. Are gun sales are likely to increase? \n",
    "In this question, we will try to predict what are the expected fluctuations in gun sales based on historic data using decision trees. \n",
    "\n",
    "\n"
   ]
  },
  {
   "cell_type": "code",
   "execution_count": null,
   "metadata": {
    "collapsed": true
   },
   "outputs": [],
   "source": []
  }
 ],
 "metadata": {
  "kernelspec": {
   "display_name": "Python 3",
   "language": "python",
   "name": "python3"
  },
  "language_info": {
   "codemirror_mode": {
    "name": "ipython",
    "version": 3
   },
   "file_extension": ".py",
   "mimetype": "text/x-python",
   "name": "python",
   "nbconvert_exporter": "python",
   "pygments_lexer": "ipython3",
   "version": "3.7.1"
  }
 },
 "nbformat": 4,
 "nbformat_minor": 2
}
