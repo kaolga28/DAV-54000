{
 "cells": [
  {
   "cell_type": "markdown",
   "metadata": {},
   "source": [
    "# Week 9 Assignment: Tidying & Transforming Data\n",
    "## DOWNLOADING THE DATA FROM GITHUB FILE\n",
    "### by Olga Kriyokov"
   ]
  },
  {
   "cell_type": "code",
   "execution_count": 2,
   "metadata": {},
   "outputs": [
    {
     "data": {
      "text/html": [
       "<div>\n",
       "<style scoped>\n",
       "    .dataframe tbody tr th:only-of-type {\n",
       "        vertical-align: middle;\n",
       "    }\n",
       "\n",
       "    .dataframe tbody tr th {\n",
       "        vertical-align: top;\n",
       "    }\n",
       "\n",
       "    .dataframe thead th {\n",
       "        text-align: right;\n",
       "    }\n",
       "</style>\n",
       "<table border=\"1\" class=\"dataframe\">\n",
       "  <thead>\n",
       "    <tr style=\"text-align: right;\">\n",
       "      <th></th>\n",
       "      <th>Unnamed: 0</th>\n",
       "      <th>Unnamed: 1</th>\n",
       "      <th>Los Angeles</th>\n",
       "      <th>Phoenix</th>\n",
       "      <th>San Diego</th>\n",
       "      <th>San Fransisco</th>\n",
       "      <th>Seattle</th>\n",
       "    </tr>\n",
       "  </thead>\n",
       "  <tbody>\n",
       "    <tr>\n",
       "      <th>0</th>\n",
       "      <td>ALASKA</td>\n",
       "      <td>on time</td>\n",
       "      <td>497.0</td>\n",
       "      <td>221.0</td>\n",
       "      <td>212.0</td>\n",
       "      <td>503.0</td>\n",
       "      <td>1841.0</td>\n",
       "    </tr>\n",
       "    <tr>\n",
       "      <th>1</th>\n",
       "      <td>NaN</td>\n",
       "      <td>delayed</td>\n",
       "      <td>62.0</td>\n",
       "      <td>12.0</td>\n",
       "      <td>20.0</td>\n",
       "      <td>105.0</td>\n",
       "      <td>305.0</td>\n",
       "    </tr>\n",
       "    <tr>\n",
       "      <th>2</th>\n",
       "      <td>NaN</td>\n",
       "      <td>NaN</td>\n",
       "      <td>NaN</td>\n",
       "      <td>NaN</td>\n",
       "      <td>NaN</td>\n",
       "      <td>NaN</td>\n",
       "      <td>NaN</td>\n",
       "    </tr>\n",
       "    <tr>\n",
       "      <th>3</th>\n",
       "      <td>AM WEST</td>\n",
       "      <td>on time</td>\n",
       "      <td>694.0</td>\n",
       "      <td>4840.0</td>\n",
       "      <td>383.0</td>\n",
       "      <td>320.0</td>\n",
       "      <td>201.0</td>\n",
       "    </tr>\n",
       "    <tr>\n",
       "      <th>4</th>\n",
       "      <td>NaN</td>\n",
       "      <td>delayed</td>\n",
       "      <td>117.0</td>\n",
       "      <td>415.0</td>\n",
       "      <td>65.0</td>\n",
       "      <td>129.0</td>\n",
       "      <td>61.0</td>\n",
       "    </tr>\n",
       "  </tbody>\n",
       "</table>\n",
       "</div>"
      ],
      "text/plain": [
       "  Unnamed: 0 Unnamed: 1  Los Angeles  Phoenix  San Diego  San Fransisco  \\\n",
       "0     ALASKA    on time        497.0    221.0      212.0          503.0   \n",
       "1        NaN    delayed         62.0     12.0       20.0          105.0   \n",
       "2        NaN        NaN          NaN      NaN        NaN            NaN   \n",
       "3    AM WEST    on time        694.0   4840.0      383.0          320.0   \n",
       "4        NaN    delayed        117.0    415.0       65.0          129.0   \n",
       "\n",
       "   Seattle  \n",
       "0   1841.0  \n",
       "1    305.0  \n",
       "2      NaN  \n",
       "3    201.0  \n",
       "4     61.0  "
      ]
     },
     "execution_count": 2,
     "metadata": {},
     "output_type": "execute_result"
    }
   ],
   "source": [
    "#importing pandas\n",
    "import pandas as pd\n",
    "#github url\n",
    "url=\"https://raw.githubusercontent.com/kaolga28/DAV-54000/master/Data_week9assignment.csv\"\n",
    "#data reading\n",
    "data=pd.read_csv(url)\n",
    "#printing the data \n",
    "data"
   ]
  },
  {
   "cell_type": "markdown",
   "metadata": {},
   "source": [
    "As you can see, the data contains NAN rows that needs to be removed for the long format"
   ]
  },
  {
   "cell_type": "code",
   "execution_count": 3,
   "metadata": {},
   "outputs": [
    {
     "data": {
      "text/html": [
       "<div>\n",
       "<style scoped>\n",
       "    .dataframe tbody tr th:only-of-type {\n",
       "        vertical-align: middle;\n",
       "    }\n",
       "\n",
       "    .dataframe tbody tr th {\n",
       "        vertical-align: top;\n",
       "    }\n",
       "\n",
       "    .dataframe thead th {\n",
       "        text-align: right;\n",
       "    }\n",
       "</style>\n",
       "<table border=\"1\" class=\"dataframe\">\n",
       "  <thead>\n",
       "    <tr style=\"text-align: right;\">\n",
       "      <th></th>\n",
       "      <th>Unnamed: 0</th>\n",
       "      <th>Unnamed: 1</th>\n",
       "      <th>Los Angeles</th>\n",
       "      <th>Phoenix</th>\n",
       "      <th>San Diego</th>\n",
       "      <th>San Fransisco</th>\n",
       "      <th>Seattle</th>\n",
       "    </tr>\n",
       "  </thead>\n",
       "  <tbody>\n",
       "    <tr>\n",
       "      <th>0</th>\n",
       "      <td>ALASKA</td>\n",
       "      <td>on time</td>\n",
       "      <td>497.0</td>\n",
       "      <td>221.0</td>\n",
       "      <td>212.0</td>\n",
       "      <td>503.0</td>\n",
       "      <td>1841.0</td>\n",
       "    </tr>\n",
       "    <tr>\n",
       "      <th>1</th>\n",
       "      <td>NaN</td>\n",
       "      <td>delayed</td>\n",
       "      <td>62.0</td>\n",
       "      <td>12.0</td>\n",
       "      <td>20.0</td>\n",
       "      <td>105.0</td>\n",
       "      <td>305.0</td>\n",
       "    </tr>\n",
       "    <tr>\n",
       "      <th>3</th>\n",
       "      <td>AM WEST</td>\n",
       "      <td>on time</td>\n",
       "      <td>694.0</td>\n",
       "      <td>4840.0</td>\n",
       "      <td>383.0</td>\n",
       "      <td>320.0</td>\n",
       "      <td>201.0</td>\n",
       "    </tr>\n",
       "    <tr>\n",
       "      <th>4</th>\n",
       "      <td>NaN</td>\n",
       "      <td>delayed</td>\n",
       "      <td>117.0</td>\n",
       "      <td>415.0</td>\n",
       "      <td>65.0</td>\n",
       "      <td>129.0</td>\n",
       "      <td>61.0</td>\n",
       "    </tr>\n",
       "  </tbody>\n",
       "</table>\n",
       "</div>"
      ],
      "text/plain": [
       "  Unnamed: 0 Unnamed: 1  Los Angeles  Phoenix  San Diego  San Fransisco  \\\n",
       "0     ALASKA    on time        497.0    221.0      212.0          503.0   \n",
       "1        NaN    delayed         62.0     12.0       20.0          105.0   \n",
       "3    AM WEST    on time        694.0   4840.0      383.0          320.0   \n",
       "4        NaN    delayed        117.0    415.0       65.0          129.0   \n",
       "\n",
       "   Seattle  \n",
       "0   1841.0  \n",
       "1    305.0  \n",
       "3    201.0  \n",
       "4     61.0  "
      ]
     },
     "execution_count": 3,
     "metadata": {},
     "output_type": "execute_result"
    }
   ],
   "source": [
    "#dropping row where all nans\n",
    "data = data.dropna(how='all')\n",
    "#printing data\n",
    "data"
   ]
  },
  {
   "cell_type": "markdown",
   "metadata": {},
   "source": [
    "## THE DATA CONTAINS NAN THAT ARE NEEDED TO BE FILLED FOR LONG FORMAT\n",
    "### FILING NAN AND GIVING COLUMNS THERE NAME"
   ]
  },
  {
   "cell_type": "code",
   "execution_count": 4,
   "metadata": {},
   "outputs": [
    {
     "data": {
      "text/html": [
       "<div>\n",
       "<style scoped>\n",
       "    .dataframe tbody tr th:only-of-type {\n",
       "        vertical-align: middle;\n",
       "    }\n",
       "\n",
       "    .dataframe tbody tr th {\n",
       "        vertical-align: top;\n",
       "    }\n",
       "\n",
       "    .dataframe thead th {\n",
       "        text-align: right;\n",
       "    }\n",
       "</style>\n",
       "<table border=\"1\" class=\"dataframe\">\n",
       "  <thead>\n",
       "    <tr style=\"text-align: right;\">\n",
       "      <th></th>\n",
       "      <th>AIRLINE</th>\n",
       "      <th>ARRIVAL</th>\n",
       "      <th>Los Angeles</th>\n",
       "      <th>Phoenix</th>\n",
       "      <th>San Diego</th>\n",
       "      <th>San Fransisco</th>\n",
       "      <th>Seattle</th>\n",
       "    </tr>\n",
       "  </thead>\n",
       "  <tbody>\n",
       "    <tr>\n",
       "      <th>0</th>\n",
       "      <td>ALASKA</td>\n",
       "      <td>on time</td>\n",
       "      <td>497.0</td>\n",
       "      <td>221.0</td>\n",
       "      <td>212.0</td>\n",
       "      <td>503.0</td>\n",
       "      <td>1841.0</td>\n",
       "    </tr>\n",
       "    <tr>\n",
       "      <th>1</th>\n",
       "      <td>ALASKA</td>\n",
       "      <td>delayed</td>\n",
       "      <td>62.0</td>\n",
       "      <td>12.0</td>\n",
       "      <td>20.0</td>\n",
       "      <td>105.0</td>\n",
       "      <td>305.0</td>\n",
       "    </tr>\n",
       "    <tr>\n",
       "      <th>2</th>\n",
       "      <td>AM WEST</td>\n",
       "      <td>on time</td>\n",
       "      <td>694.0</td>\n",
       "      <td>4840.0</td>\n",
       "      <td>383.0</td>\n",
       "      <td>320.0</td>\n",
       "      <td>201.0</td>\n",
       "    </tr>\n",
       "    <tr>\n",
       "      <th>3</th>\n",
       "      <td>AM WEST</td>\n",
       "      <td>delayed</td>\n",
       "      <td>117.0</td>\n",
       "      <td>415.0</td>\n",
       "      <td>65.0</td>\n",
       "      <td>129.0</td>\n",
       "      <td>61.0</td>\n",
       "    </tr>\n",
       "  </tbody>\n",
       "</table>\n",
       "</div>"
      ],
      "text/plain": [
       "   AIRLINE  ARRIVAL  Los Angeles  Phoenix  San Diego  San Fransisco  Seattle\n",
       "0   ALASKA  on time        497.0    221.0      212.0          503.0   1841.0\n",
       "1   ALASKA  delayed         62.0     12.0       20.0          105.0    305.0\n",
       "2  AM WEST  on time        694.0   4840.0      383.0          320.0    201.0\n",
       "3  AM WEST  delayed        117.0    415.0       65.0          129.0     61.0"
      ]
     },
     "execution_count": 4,
     "metadata": {},
     "output_type": "execute_result"
    }
   ],
   "source": [
    "#remove setting_copy warning\n",
    "import warnings\n",
    "warnings.filterwarnings(\"ignore\")\n",
    "#Renaming unnamed columns\n",
    "data.rename( columns={'Unnamed: 0':'AIRLINE'}, inplace=True, copy=False )\n",
    "data.rename( columns={'Unnamed: 1':'ARRIVAL'}, inplace=True,copy=False )\n",
    "#Filling NANS as required\n",
    "data['AIRLINE'].iloc[1]=\"ALASKA\"\n",
    "data['AIRLINE'].iloc[3]=\"AM WEST\"\n",
    "#Reseting the indexes for before further process\n",
    "data.reset_index(drop=True,inplace=True)\n",
    "#printing data\n",
    "data"
   ]
  },
  {
   "cell_type": "markdown",
   "metadata": {},
   "source": [
    "## Data in long format\n",
    "## Analysis"
   ]
  },
  {
   "cell_type": "markdown",
   "metadata": {},
   "source": [
    "## Which airline had the best overall on time performance?"
   ]
  },
  {
   "cell_type": "code",
   "execution_count": 4,
   "metadata": {},
   "outputs": [
    {
     "name": "stdout",
     "output_type": "stream",
     "text": [
      "Alaska Total flights:  3778.0\n",
      "Alaska ON TIME ratio:  0.8665960825833775\n",
      "AM WEST Total flights:  7225.0\n",
      "AM WEST ON TIME ratio:  0.8910726643598615\n"
     ]
    }
   ],
   "source": [
    "Total=data.sum(axis = 1) \n",
    "Alaska_Total=Total[0]+Total[1]\n",
    "print (\"Alaska Total flights: \",Alaska_Total)\n",
    "Alaska_Ratio=Total[0]/Alaska_Total\n",
    "print (\"Alaska ON TIME ratio: \",Alaska_Ratio)\n",
    "AM_WEST_Total=Total[2]+Total[3]\n",
    "print (\"AM WEST Total flights: \",AM_WEST_Total)\n",
    "AM_WEST_Ratio=Total[2]/AM_WEST_Total\n",
    "print (\"AM WEST ON TIME ratio: \",AM_WEST_Ratio)"
   ]
  },
  {
   "cell_type": "markdown",
   "metadata": {},
   "source": [
    "The results show that Alaska's flights have more probability of getting delayed with 86% comparing to AM West with 89%"
   ]
  },
  {
   "cell_type": "markdown",
   "metadata": {},
   "source": [
    "## Which airline had the best overall on time performance for respective cities?"
   ]
  },
  {
   "cell_type": "code",
   "execution_count": 5,
   "metadata": {},
   "outputs": [
    {
     "name": "stdout",
     "output_type": "stream",
     "text": [
      "Alaska ON TIME ratio for  Los Angeles :  0.889087656529517\n",
      "AM WEST ON TIME ratio for  Los Angeles :  0.8557336621454994\n",
      "Alaska ON TIME ratio for  Phoenix :  0.9484978540772532\n",
      "AM WEST ON TIME ratio for  Phoenix :  0.9210275927687916\n",
      "Alaska ON TIME ratio for  San Diego :  0.9137931034482759\n",
      "AM WEST ON TIME ratio for  San Diego :  0.8549107142857143\n",
      "Alaska ON TIME ratio for  San Fransisco :  0.8273026315789473\n",
      "AM WEST ON TIME ratio for  San Fransisco :  0.7126948775055679\n",
      "Alaska ON TIME ratio for  Seattle :  0.8578751164958062\n",
      "AM WEST ON TIME ratio for  Seattle :  0.767175572519084\n",
      "Cities having better on time ratio for Alaska:  ['Los Angeles', 'Phoenix', 'San Diego', 'San Fransisco', 'Seattle']\n",
      "Cities having better on time ratio for AM_WEST:  []\n"
     ]
    }
   ],
   "source": [
    "#City wise performance on time performance\n",
    "cities=['Los Angeles','Phoenix','San Diego','San Fransisco','Seattle']\n",
    "AM_WEST=[]\n",
    "Alaska=[]\n",
    "for rows in cities:\n",
    "    city_data=data[rows]\n",
    "    Alaska_Total=city_data[0]+city_data[1]\n",
    "    Alaska_Ratio=city_data[0]/Alaska_Total\n",
    "    AM_WEST_Total=city_data[2]+city_data[3]\n",
    "    AM_WEST_Ratio=city_data[2]/AM_WEST_Total\n",
    "    print (\"Alaska ON TIME ratio for \",rows,\": \",Alaska_Ratio)\n",
    "    print (\"AM WEST ON TIME ratio for \",rows,\": \",AM_WEST_Ratio)\n",
    "    if (Alaska_Ratio>AM_WEST_Ratio):\n",
    "        Alaska.append(rows)\n",
    "    else:\n",
    "        AM_WEST.append(rows)\n",
    "print (\"Cities having better on time ratio for Alaska: \",Alaska)\n",
    "print (\"Cities having better on time ratio for AM_WEST: \",AM_WEST)"
   ]
  },
  {
   "cell_type": "code",
   "execution_count": 6,
   "metadata": {},
   "outputs": [
    {
     "name": "stdout",
     "output_type": "stream",
     "text": [
      "Alaska flights from  Los Angeles :  559.0\n",
      "AM WEST flights from  Los Angeles :  811.0\n",
      "Alaska flights from  Phoenix :  233.0\n",
      "AM WEST flights from  Phoenix :  5255.0\n",
      "Alaska flights from  San Diego :  232.0\n",
      "AM WEST flights from  San Diego :  448.0\n",
      "Alaska flights from  San Fransisco :  608.0\n",
      "AM WEST flights from  San Fransisco :  449.0\n",
      "Alaska flights from  Seattle :  2146.0\n",
      "AM WEST flights from  Seattle :  262.0\n",
      "Cities having more flights from Alaska:  ['San Fransisco', 'Seattle']\n",
      "Cities having more flights from AM_WEST:  ['Los Angeles', 'Phoenix', 'San Diego']\n"
     ]
    }
   ],
   "source": [
    "#City wise performance on no of flights\n",
    "cities=['Los Angeles','Phoenix','San Diego','San Fransisco','Seattle']\n",
    "AM_WEST=[]\n",
    "Alaska=[]\n",
    "for rows in cities:\n",
    "    city_data=data[rows]\n",
    "    Alaska_Total=city_data[0]+city_data[1]\n",
    "    AM_WEST_Total=city_data[2]+city_data[3]\n",
    "    print (\"Alaska flights from \",rows,\": \",Alaska_Total)\n",
    "    print (\"AM WEST flights from \",rows,\": \",AM_WEST_Total)\n",
    "    if (Alaska_Total>AM_WEST_Total):\n",
    "        Alaska.append(rows)\n",
    "    else:\n",
    "        AM_WEST.append(rows)\n",
    "print (\"Cities having more flights from Alaska: \",Alaska)\n",
    "print (\"Cities having more flights from AM_WEST: \",AM_WEST)"
   ]
  },
  {
   "cell_type": "markdown",
   "metadata": {},
   "source": [
    "The results shows the greater number of flights with respect to airline"
   ]
  },
  {
   "cell_type": "markdown",
   "metadata": {},
   "source": [
    "Wide format: I wrote the data as a combination of on time and delayed parameters:"
   ]
  },
  {
   "cell_type": "raw",
   "metadata": {},
   "source": [
    "AIRLINE | Los Angeles | Phoenix    | San Diego | San Fransisco | Seattle\n",
    "Alaska  | [497,62]    | [221,12]   | [212,20]  | [503,105]     | [1841,305]\n",
    "AM WEST | [694,117]   | [4840,415] | [383,65]  | [320,129]     | [201,61]"
   ]
  },
  {
   "cell_type": "code",
   "execution_count": 7,
   "metadata": {},
   "outputs": [
    {
     "name": "stdout",
     "output_type": "stream",
     "text": [
      "Wide data frame \n",
      "                    0            1          2              3            4\n",
      "Airline  Los Angeles      Phoenix  San Diego  San Fransisco      Seattle\n",
      "Alaska     (497, 62)    (221, 12)  (212, 20)     (503, 105)  (1841, 305)\n",
      "AM_WEST   (694, 117)  (4840, 415)  (383, 65)     (320, 129)    (201, 61)\n"
     ]
    }
   ],
   "source": [
    "first=[\"Los Angeles\",\"Phoenix\",\"San Diego\",\"San Fransisco\",\"Seattle\"]\n",
    "second=[497,62],[221,12],[212,20],[503,105],[1841,305]\n",
    "third=[694,117],[4840,415],[383,65],[320,129],[201,61]\n",
    "df=pd.DataFrame()\n",
    "df['Airline']=first\n",
    "df['Alaska']=second\n",
    "df['AM_WEST']=third\n",
    "df=df.transpose()\n",
    "print (\"Wide data frame \\n\",df)"
   ]
  },
  {
   "cell_type": "markdown",
   "metadata": {},
   "source": [
    "As you can see from the analysis above, Alaska airlines, flights from Seattle had 1841 delays, and AM_WEST had 4840 delays for flights from Phoenix.  "
   ]
  },
  {
   "cell_type": "code",
   "execution_count": null,
   "metadata": {
    "collapsed": true
   },
   "outputs": [],
   "source": []
  }
 ],
 "metadata": {
  "kernelspec": {
   "display_name": "Python 3",
   "language": "python",
   "name": "python3"
  },
  "language_info": {
   "codemirror_mode": {
    "name": "ipython",
    "version": 3
   },
   "file_extension": ".py",
   "mimetype": "text/x-python",
   "name": "python",
   "nbconvert_exporter": "python",
   "pygments_lexer": "ipython3",
   "version": "3.6.2"
  }
 },
 "nbformat": 4,
 "nbformat_minor": 2
}
