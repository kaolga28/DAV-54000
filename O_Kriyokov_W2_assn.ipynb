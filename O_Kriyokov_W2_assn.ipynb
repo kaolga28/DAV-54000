{
 "cells": [
  {
   "cell_type": "code",
   "execution_count": 159,
   "metadata": {},
   "outputs": [
    {
     "name": "stdout",
     "output_type": "stream",
     "text": [
      "['high', 'high', '2', '4', 'med', 'low', 'unacc']\n",
      "['high', 'high', '4', 'more', 'small', 'high', 'acc']\n",
      "['high', 'high', '4', 'more', 'big', 'low', 'unacc']\n",
      "['high', 'low', '2', 'more', 'big', 'high', 'acc']\n",
      "['vhigh', 'low', '3', '2', 'med', 'med', 'unacc']\n",
      "['low', 'high', '2', '2', 'small', 'low', 'unacc']\n",
      "['med', 'med', '4', 'more', 'med', 'high', 'vgood']\n",
      "['low', 'low', '3', '2', 'big', 'med', 'unacc']\n",
      "['vhigh', 'low', '2', '2', 'small', 'low', 'unacc']\n",
      "['vhigh', 'high', '4', '4', 'med', 'low', 'unacc']\n",
      "['low', 'low', '2', '2', 'med', 'med', 'unacc']\n",
      "['vhigh', 'low', '4', 'more', 'small', 'high', 'acc']\n",
      "['high', 'low', '2', '4', 'big', 'med', 'acc']\n",
      "['low', 'vhigh', '3', 'more', 'big', 'low', 'unacc']\n",
      "['high', 'low', '5more', '2', 'big', 'med', 'unacc']\n",
      "['vhigh', 'high', '2', 'more', 'med', 'high', 'unacc']\n",
      "['med', 'med', '2', '2', 'small', 'low', 'unacc']\n",
      "['high', 'low', '5more', '4', 'med', 'high', 'acc']\n",
      "['low', 'low', '3', 'more', 'med', 'high', 'vgood']\n",
      "['low', 'low', '2', '2', 'big', 'med', 'unacc']\n",
      "['med', 'high', '4', '2', 'big', 'high', 'unacc']\n",
      "['low', 'low', '2', '2', 'small', 'high', 'unacc']\n",
      "['vhigh', 'high', '5more', '4', 'med', 'med', 'unacc']\n",
      "['med', 'vhigh', '2', '2', 'big', 'low', 'unacc']\n",
      "['low', 'vhigh', '4', '4', 'big', 'low', 'unacc']\n",
      "['vhigh', 'low', '3', 'more', 'big', 'low', 'unacc']\n",
      "['med', 'vhigh', '3', '4', 'small', 'low', 'unacc']\n",
      "['high', 'high', '3', '4', 'med', 'med', 'unacc']\n",
      "['low', 'high', '5more', '2', 'big', 'low', 'unacc']\n",
      "['med', 'high', '5more', '2', 'med', 'med', 'unacc']\n",
      "['high', 'low', '3', '4', 'med', 'high', 'acc']\n",
      "['high', 'vhigh', '5more', '4', 'med', 'med', 'unacc']\n",
      "['low', 'low', '5more', '2', 'med', 'low', 'unacc']\n",
      "['vhigh', 'vhigh', '4', '2', 'big', 'high', 'unacc']\n",
      "['high', 'low', '3', '2', 'big', 'high', 'unacc']\n"
     ]
    }
   ],
   "source": [
    "#1. Read csv file\n",
    "import csv\n",
    "\n",
    "\n",
    "with open('C:\\YU_Python/cars-sample35.txt') as csvfile:\n",
    "    readCSV = csv.reader(csvfile)\n",
    "        \n",
    "    for row in readCSV:\n",
    "        print(row) # print each row as read by the csv.reader function"
   ]
  },
  {
   "cell_type": "code",
   "execution_count": 144,
   "metadata": {},
   "outputs": [
    {
     "name": "stdout",
     "output_type": "stream",
     "text": [
      "['high', 'high', 'high', 'high', 'vhigh', 'low', 'med', 'low', 'vhigh', 'vhigh', 'low', 'vhigh', 'high', 'low', 'high', 'vhigh', 'med', 'high', 'low', 'low', 'med', 'low', 'vhigh', 'med', 'low', 'vhigh', 'med', 'high', 'low', 'med', 'high', 'high', 'low', 'vhigh', 'high']\n",
      "['high', 'high', 'high', 'low', 'low', 'high', 'med', 'low', 'low', 'high', 'low', 'low', 'low', 'vhigh', 'low', 'high', 'med', 'low', 'low', 'low', 'high', 'low', 'high', 'vhigh', 'vhigh', 'low', 'vhigh', 'high', 'high', 'high', 'low', 'vhigh', 'low', 'vhigh', 'low']\n",
      "['2', '4', '4', '2', '3', '2', '4', '3', '2', '4', '2', '4', '2', '3', '5more', '2', '2', '5more', '3', '2', '4', '2', '5more', '2', '4', '3', '3', '3', '5more', '5more', '3', '5more', '5more', '4', '3']\n",
      "['4', 'more', 'more', 'more', '2', '2', 'more', '2', '2', '4', '2', 'more', '4', 'more', '2', 'more', '2', '4', 'more', '2', '2', '2', '4', '2', '4', 'more', '4', '4', '2', '2', '4', '4', '2', '2', '2']\n",
      "['med', 'small', 'big', 'big', 'med', 'small', 'med', 'big', 'small', 'med', 'med', 'small', 'big', 'big', 'big', 'med', 'small', 'med', 'med', 'big', 'big', 'small', 'med', 'big', 'big', 'big', 'small', 'med', 'big', 'med', 'med', 'med', 'med', 'big', 'big']\n",
      "['low', 'high', 'low', 'high', 'med', 'low', 'high', 'med', 'low', 'low', 'med', 'high', 'med', 'low', 'med', 'high', 'low', 'high', 'high', 'med', 'high', 'high', 'med', 'low', 'low', 'low', 'low', 'med', 'low', 'med', 'high', 'med', 'low', 'high', 'high']\n",
      "['unacc', 'acc', 'unacc', 'acc', 'unacc', 'unacc', 'vgood', 'unacc', 'unacc', 'unacc', 'unacc', 'acc', 'acc', 'unacc', 'unacc', 'unacc', 'unacc', 'acc', 'vgood', 'unacc', 'unacc', 'unacc', 'unacc', 'unacc', 'unacc', 'unacc', 'unacc', 'unacc', 'unacc', 'unacc', 'acc', 'unacc', 'unacc', 'unacc', 'unacc']\n",
      "The index of cars with medium price is: [6, 16, 20, 23, 26, 29]\n",
      "Number of passengers who has meduim price car is: ['more', '2', '2', '2', '4', '2']\n"
     ]
    }
   ],
   "source": [
    "import csv\n",
    "with open('C:\\YU_Python/cars-sample35.txt') as csvfile:\n",
    "    readCSV = csv.reader(csvfile)\n",
    "# create new empty lists\n",
    "    Prices = []\n",
    "    Maintenance_costs = []\n",
    "    Number_of_doors = []\n",
    "    Number_of_passengers = []\n",
    "    Luggage_capacity = []\n",
    "    Safety_rating = []\n",
    "    Classification_of_vehicle = []\n",
    "    \n",
    "    for row in readCSV:  # defining the elements index\n",
    "        Price = row[0]\n",
    "        Maint_cost = row[1]\n",
    "        Num_doors = row[2]\n",
    "        Num_passengers = row[3]\n",
    "        Luggage_cap = row[4]\n",
    "        Safet_rat = row[5]\n",
    "        Class_vehicle = row[6]\n",
    "   \n",
    "        Prices.append(Price)         # store each column in a set     \n",
    "        Maintenance_costs.append(Maint_cost)\n",
    "        Number_of_doors.append(Num_doors)\n",
    "        Number_of_passengers.append(Num_passengers)\n",
    "        Luggage_capacity.append(Luggage_cap)\n",
    "        Safety_rating.append(Safet_rat)\n",
    "        Classification_of_vehicle.append(Class_vehicle)\n",
    "\n",
    "    print(Prices)\n",
    "    print(Maintenance_costs)\n",
    "    print(Number_of_doors)\n",
    "    print(Number_of_passengers)\n",
    "    print(Luggage_capacity)\n",
    "    print(Safety_rating)\n",
    "    print(Classification_of_vehicle)\n",
    "    \n",
    "# Task2: Present all values where price = 'med'\n",
    "# Used comprehension statement to find all prices with value - med\n",
    "    priceIndex = [i for i, x in enumerate(Prices) if x == \"med\"]\n",
    "\n",
    "    print('The index of cars with medium price is:', Priceindex)\n",
    "\n",
    "# Task3:  find the \"number of passengers\" value for each auto having a \"price\" value of \"med\" and insert it in a new list\n",
    "# Since i found all index values before, I just used those index values to find the values in passanger list  \n",
    "    priceCount = [Prices.count(\"med\")]\n",
    "    numPassenger = []\n",
    "    numPassenger.append(Number_of_passengers[6])   #I am aware of the fact that there is much more efficient way \n",
    "    numPassenger.append(Number_of_passengers[16])  # to do in instead of hard-copying the valueas from task 3, Biu I could'nt \n",
    "    numPassenger.append(Number_of_passengers[20])  # figure it out\n",
    "    numPassenger.append(Number_of_passengers[23])\n",
    "    numPassenger.append(Number_of_passengers[26])\n",
    "    numPassenger.append(Number_of_passengers[29])\n",
    "    print('Number of passengers who has meduim price car is:', numPassenger)\n",
    "    \n",
    "\n",
    "    \n"
   ]
  },
  {
   "cell_type": "code",
   "execution_count": 152,
   "metadata": {},
   "outputs": [
    {
     "name": "stdout",
     "output_type": "stream",
     "text": [
      "[0, 1, 2, 27, 31]\n"
     ]
    }
   ],
   "source": [
    "# Task4: o find the index value for each automobile having a price value of \"high\" and a maintenance value\n",
    "# that is not \"low\"\n",
    "import csv\n",
    "\n",
    "with open('C:\\YU_Python/cars-sample35.txt') as csvfile:\n",
    "    readCSV = csv.reader(csvfile) \n",
    "    price1 = 'high'  #define 2 variables that will hold the values we were looking\n",
    "    maintValue = 'low'\n",
    "    \n",
    "    priceMaintain = []\n",
    "\n",
    "\n",
    "    for index, row in enumerate(readCSV):      #loop into the rows in the file, find the metching and retirn the index = row number\n",
    "        if row[0] == price1 and row[1] != maintValue:\n",
    "            priceMaintain.append(index)\n",
    "    print(priceMaintain)    \n",
    "        "
   ]
  },
  {
   "cell_type": "code",
   "execution_count": 150,
   "metadata": {},
   "outputs": [
    {
     "name": "stdout",
     "output_type": "stream",
     "text": [
      "[3, 12, 19, 23]\n"
     ]
    }
   ],
   "source": [
    "#Task5 find the index value for each auto having 2 doors and a luggage value of \"big\"\n",
    "import csv\n",
    "\n",
    "with open('C:\\YU_Python/cars-sample35.txt') as csvfile:\n",
    "    readCSV = csv.reader(csvfile) \n",
    "    doors = '2'  #define 2 variables that will hold the values we were looking\n",
    "    luggage = 'big'\n",
    "    \n",
    "    doorLagguage = []\n",
    "\n",
    "\n",
    "    for index2, row in enumerate(readCSV):      \n",
    "        if row[2] == doors and row[4] == luggage: \n",
    "            doorLagguage.append(index2)\n",
    "    print (doorLagguage)\n",
    "            \n"
   ]
  },
  {
   "cell_type": "code",
   "execution_count": 184,
   "metadata": {},
   "outputs": [
    {
     "name": "stdout",
     "output_type": "stream",
     "text": [
      "[2, 4, 4, 2, 3, 2, 4, 3, 2, 4, 2, 4, 2, 3, 5, 2, 2, 5, 3, 2, 4, 2, 5, 2, 4, 3, 3, 3, 5, 5, 3, 5, 5, 4, 3]\n",
      "The avg number of doors is: 3.3142857142857145\n"
     ]
    }
   ],
   "source": [
    "#Task5 create a new list containing the integer equivalents of the doors values, convert string to int\n",
    "# calculate average\n",
    "\n",
    "\n",
    "with open('C:\\YU_Python/cars-sample35.txt') as csvfile:\n",
    "    readCSV = csv.reader(csvfile)\n",
    "# create new empty lists\n",
    "    Number_of_doors = []\n",
    "    \n",
    "    for row in readCSV: \n",
    "       \n",
    "        Num_doors = row[2]  # defining the elements index\n",
    "        \n",
    "        Number_of_doors.append(Num_doors)  # store each column in a set\n",
    "        Number_of_doors = [num.replace('5more','5') for num in Number_of_doors] # replace value '5more' to an int by looping all set calues\n",
    "    #print(Number_of_doors)\n",
    "    \n",
    "    \n",
    "    Number_of_doors = [int(i) for i in Number_of_doors]\n",
    "    print(Number_of_doors)\n",
    "    \n",
    "   \n",
    "    print('The avg number of doors is:', sum(Number_of_doors) / float(len(Number_of_doors)))"
   ]
  },
  {
   "cell_type": "code",
   "execution_count": null,
   "metadata": {
    "collapsed": true
   },
   "outputs": [],
   "source": []
  }
 ],
 "metadata": {
  "kernelspec": {
   "display_name": "Python 3",
   "language": "python",
   "name": "python3"
  },
  "language_info": {
   "codemirror_mode": {
    "name": "ipython",
    "version": 3
   },
   "file_extension": ".py",
   "mimetype": "text/x-python",
   "name": "python",
   "nbconvert_exporter": "python",
   "pygments_lexer": "ipython3",
   "version": "3.6.2"
  }
 },
 "nbformat": 4,
 "nbformat_minor": 2
}
