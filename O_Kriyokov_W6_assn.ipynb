{
 "cells": [
  {
   "cell_type": "markdown",
   "metadata": {},
   "source": [
    "# Analysis of Diamond dataset with Pandas\n",
    "\n",
    "By Olga Kriyokov\n",
    "\n",
    "This data set we’ll contains prices and other attributes of nearly 54,000 diamonds. \n",
    "\n",
    "in this analysis we will be answering the next questions:\n",
    "1. What proportion of diamonds are between .30 and 1.08 carats?\n",
    "2. How many of the diamonds have equal x and y dimensions?\n",
    "3. How many of the diamonds have a carat less than the mean carat value?\n",
    "4. How many diamonds have a Premium cut or better? Note that the possible values for the quality of a cut are\n",
    "   ranked in ascending order as follows: Fair / Good / Very Good / Premium / Ideal\n",
    "5. Which diamond has the highest price per carat? What is its value?\n",
    "6. Make a bar plot of the ‘cut’ data. What does it tell us about the frequencies of the individual cut values within\n",
    "   the data set?\n",
    "7. Make boxplots of the diamond price for each cut and discuss any conclusions you can draw from the appearance\n",
    "   of the boxplots.\n",
    "8. Make histograms of the length, width, depth, and total depth attributes and discuss any conclusions you can\n",
    "   draw from the shape of the resulting distributions.\n",
    "9. Make a scatter plot of price vs. carat. What can we say about the relationship between those two attributes?"
   ]
  },
  {
   "cell_type": "code",
   "execution_count": 1,
   "metadata": {
    "collapsed": true
   },
   "outputs": [],
   "source": [
    "#Importing Libraries\n",
    "import pandas as pd\n",
    "import matplotlib.pyplot as plt"
   ]
  },
  {
   "cell_type": "code",
   "execution_count": 2,
   "metadata": {},
   "outputs": [
    {
     "name": "stdout",
     "output_type": "stream",
     "text": [
      "       carat        cut color clarity  depth  table  price     x     y     z\n",
      "0       0.23      Ideal     E     SI2   61.5   55.0    326  3.95  3.98  2.43\n",
      "1       0.21    Premium     E     SI1   59.8   61.0    326  3.89  3.84  2.31\n",
      "2       0.23       Good     E     VS1   56.9   65.0    327  4.05  4.07  2.31\n",
      "3       0.29    Premium     I     VS2   62.4   58.0    334  4.20  4.23  2.63\n",
      "4       0.31       Good     J     SI2   63.3   58.0    335  4.34  4.35  2.75\n",
      "5       0.24  Very Good     J    VVS2   62.8   57.0    336  3.94  3.96  2.48\n",
      "6       0.24  Very Good     I    VVS1   62.3   57.0    336  3.95  3.98  2.47\n",
      "7       0.26  Very Good     H     SI1   61.9   55.0    337  4.07  4.11  2.53\n",
      "8       0.22       Fair     E     VS2   65.1   61.0    337  3.87  3.78  2.49\n",
      "9       0.23  Very Good     H     VS1   59.4   61.0    338  4.00  4.05  2.39\n",
      "10      0.30       Good     J     SI1   64.0   55.0    339  4.25  4.28  2.73\n",
      "11      0.23      Ideal     J     VS1   62.8   56.0    340  3.93  3.90  2.46\n",
      "12      0.22    Premium     F     SI1   60.4   61.0    342  3.88  3.84  2.33\n",
      "13      0.31      Ideal     J     SI2   62.2   54.0    344  4.35  4.37  2.71\n",
      "14      0.20    Premium     E     SI2   60.2   62.0    345  3.79  3.75  2.27\n",
      "15      0.32    Premium     E      I1   60.9   58.0    345  4.38  4.42  2.68\n",
      "16      0.30      Ideal     I     SI2   62.0   54.0    348  4.31  4.34  2.68\n",
      "17      0.30       Good     J     SI1   63.4   54.0    351  4.23  4.29  2.70\n",
      "18      0.30       Good     J     SI1   63.8   56.0    351  4.23  4.26  2.71\n",
      "19      0.30  Very Good     J     SI1   62.7   59.0    351  4.21  4.27  2.66\n",
      "20      0.30       Good     I     SI2   63.3   56.0    351  4.26  4.30  2.71\n",
      "21      0.23  Very Good     E     VS2   63.8   55.0    352  3.85  3.92  2.48\n",
      "22      0.23  Very Good     H     VS1   61.0   57.0    353  3.94  3.96  2.41\n",
      "23      0.31  Very Good     J     SI1   59.4   62.0    353  4.39  4.43  2.62\n",
      "24      0.31  Very Good     J     SI1   58.1   62.0    353  4.44  4.47  2.59\n",
      "25      0.23  Very Good     G    VVS2   60.4   58.0    354  3.97  4.01  2.41\n",
      "26      0.24    Premium     I     VS1   62.5   57.0    355  3.97  3.94  2.47\n",
      "27      0.30  Very Good     J     VS2   62.2   57.0    357  4.28  4.30  2.67\n",
      "28      0.23  Very Good     D     VS2   60.5   61.0    357  3.96  3.97  2.40\n",
      "29      0.23  Very Good     F     VS1   60.9   57.0    357  3.96  3.99  2.42\n",
      "...      ...        ...   ...     ...    ...    ...    ...   ...   ...   ...\n",
      "53910   0.70    Premium     E     SI1   60.5   58.0   2753  5.74  5.77  3.48\n",
      "53911   0.57    Premium     E      IF   59.8   60.0   2753  5.43  5.38  3.23\n",
      "53912   0.61    Premium     F    VVS1   61.8   59.0   2753  5.48  5.40  3.36\n",
      "53913   0.80       Good     G     VS2   64.2   58.0   2753  5.84  5.81  3.74\n",
      "53914   0.84       Good     I     VS1   63.7   59.0   2753  5.94  5.90  3.77\n",
      "53915   0.77      Ideal     E     SI2   62.1   56.0   2753  5.84  5.86  3.63\n",
      "53916   0.74       Good     D     SI1   63.1   59.0   2753  5.71  5.74  3.61\n",
      "53917   0.90  Very Good     J     SI1   63.2   60.0   2753  6.12  6.09  3.86\n",
      "53918   0.76    Premium     I     VS1   59.3   62.0   2753  5.93  5.85  3.49\n",
      "53919   0.76      Ideal     I    VVS1   62.2   55.0   2753  5.89  5.87  3.66\n",
      "53920   0.70  Very Good     E     VS2   62.4   60.0   2755  5.57  5.61  3.49\n",
      "53921   0.70  Very Good     E     VS2   62.8   60.0   2755  5.59  5.65  3.53\n",
      "53922   0.70  Very Good     D     VS1   63.1   59.0   2755  5.67  5.58  3.55\n",
      "53923   0.73      Ideal     I     VS2   61.3   56.0   2756  5.80  5.84  3.57\n",
      "53924   0.73      Ideal     I     VS2   61.6   55.0   2756  5.82  5.84  3.59\n",
      "53925   0.79      Ideal     I     SI1   61.6   56.0   2756  5.95  5.97  3.67\n",
      "53926   0.71      Ideal     E     SI1   61.9   56.0   2756  5.71  5.73  3.54\n",
      "53927   0.79       Good     F     SI1   58.1   59.0   2756  6.06  6.13  3.54\n",
      "53928   0.79    Premium     E     SI2   61.4   58.0   2756  6.03  5.96  3.68\n",
      "53929   0.71      Ideal     G     VS1   61.4   56.0   2756  5.76  5.73  3.53\n",
      "53930   0.71    Premium     E     SI1   60.5   55.0   2756  5.79  5.74  3.49\n",
      "53931   0.71    Premium     F     SI1   59.8   62.0   2756  5.74  5.73  3.43\n",
      "53932   0.70  Very Good     E     VS2   60.5   59.0   2757  5.71  5.76  3.47\n",
      "53933   0.70  Very Good     E     VS2   61.2   59.0   2757  5.69  5.72  3.49\n",
      "53934   0.72    Premium     D     SI1   62.7   59.0   2757  5.69  5.73  3.58\n",
      "53935   0.72      Ideal     D     SI1   60.8   57.0   2757  5.75  5.76  3.50\n",
      "53936   0.72       Good     D     SI1   63.1   55.0   2757  5.69  5.75  3.61\n",
      "53937   0.70  Very Good     D     SI1   62.8   60.0   2757  5.66  5.68  3.56\n",
      "53938   0.86    Premium     H     SI2   61.0   58.0   2757  6.15  6.12  3.74\n",
      "53939   0.75      Ideal     D     SI2   62.2   55.0   2757  5.83  5.87  3.64\n",
      "\n",
      "[53940 rows x 10 columns]\n"
     ]
    }
   ],
   "source": [
    "#Reading Data\n",
    "\n",
    "filename = (r\"C:\\Users\\Olga Kriyokov\\Documents\\GitHub\\DAV-54000/diamonds.csv\")\n",
    "df=pd.read_csv(filename)\n",
    "print(df)\n",
    "\n",
    "#df=pd.read_csv(\"diamonds.csv\", error_bad_lines=False)"
   ]
  },
  {
   "cell_type": "code",
   "execution_count": 3,
   "metadata": {},
   "outputs": [
    {
     "data": {
      "text/plain": [
       "(53940, 10)"
      ]
     },
     "execution_count": 3,
     "metadata": {},
     "output_type": "execute_result"
    }
   ],
   "source": [
    "#Shape of data\n",
    "df.shape"
   ]
  },
  {
   "cell_type": "markdown",
   "metadata": {},
   "source": [
    "This data set contain more than 53000 rows with attributes: \n",
    "* price in US dollars (\\$326--\\$18,823)\n",
    "* weight of the diamond (0.2--5.01)\n",
    "* quality of the cut (Fair, Good, Very Good, Premium, Ideal)\n",
    "* diamond colour, from J (worst) to D (best)\n",
    "* Clarity - a measurement of how clear the diamond is (I1 (worst), SI2, SI1, VS2, VS1, VVS2, VVS1, IF (best))\n",
    "* x - length in mm (0--10.74)\n",
    "* y - width in mm (0--58.9)\n",
    "* z - depth in mm (0--31.8)\n",
    "* depth - total depth percentage = z / mean(x, y) = 2 * z / (x + y) (43--79)\n",
    "* width - width of top of diamond relative to widest point (43--95)"
   ]
  },
  {
   "cell_type": "markdown",
   "metadata": {},
   "source": [
    "# 1. What proportion of diamonds are between .30 and 1.08 carats?"
   ]
  },
  {
   "cell_type": "code",
   "execution_count": 4,
   "metadata": {},
   "outputs": [
    {
     "name": "stdout",
     "output_type": "stream",
     "text": [
      "Proportion of diamonds in given range:  0.75\n"
     ]
    }
   ],
   "source": [
    "cond=(df['carat']>=.30) & (df['carat']<=1.08)\n",
    "total_in_range=cond.sum()\n",
    "total_rows=cond.shape[0]\n",
    "proportion=total_in_range/float(total_rows)\n",
    "print(\"Proportion of diamonds in given range: \",round(proportion,2))\n"
   ]
  },
  {
   "cell_type": "markdown",
   "metadata": {},
   "source": [
    "In this question, we were asked about the ratio of diamonds with the above attributes. As you can see, 75% of the diamonds have those attributes. In order to answer this question, I summed up all values that has those values and devided by total number of rows. Also, I have included border values 0.30 and 1.08 carats.\n",
    "The answer was rounded with 2 numbers after the dot. "
   ]
  },
  {
   "cell_type": "markdown",
   "metadata": {},
   "source": [
    "# 2. How many of the diamonds have equal x and y dimensions?"
   ]
  },
  {
   "cell_type": "code",
   "execution_count": 17,
   "metadata": {
    "scrolled": false
   },
   "outputs": [
    {
     "name": "stdout",
     "output_type": "stream",
     "text": [
      "Total Diamonds with equal x and y dimensions:  17\n",
      "<bound method DataFrame.query of        carat        cut color clarity  depth  table  price     x     y     z\n",
      "3397    0.30      Ideal     H    VVS2   62.5   54.0    567  4.30  4.30  2.70\n",
      "10055   0.27  Very Good     F    VVS1   62.0   55.0    591  4.16  4.16  2.59\n",
      "11963   1.00  Very Good     H     VS2   63.3   53.0   5139  0.00  0.00  0.00\n",
      "15951   1.14       Fair     G     VS1   57.5   67.0   6381  0.00  0.00  0.00\n",
      "16516   1.00    Premium     E     VS2   60.0   60.0   6600  6.43  6.43  3.89\n",
      "16851   1.00    Premium     E     VS2   60.0   60.0   6720  6.43  6.43  3.89\n",
      "17368   1.22    Premium     G     SI2   62.4   61.0   6969  6.79  6.79  4.23\n",
      "24520   1.56      Ideal     G     VS2   62.2   54.0  12800  0.00  0.00  0.00\n",
      "26243   1.20    Premium     D    VVS1   62.1   59.0  15686  0.00  0.00  0.00\n",
      "27429   2.25    Premium     H     SI2   62.8   59.0  18034  0.00  0.00  0.00\n",
      "34302   0.32      Ideal     D    VVS2   62.1   54.0    858  4.40  4.40  2.74\n",
      "40016   0.42      Ideal     H    VVS1   62.8   57.0   1108  4.79  4.79  3.01\n",
      "41855   0.61    Premium     G     SI1   60.8   60.0   1255  5.42  5.42  3.31\n",
      "42127   0.48      Ideal     F     VS2   62.4   54.0   1279  5.03  5.03  3.15\n",
      "43490   0.51    Premium     F     SI1   61.4   59.0   1421  5.13  5.13  3.16\n",
      "49556   0.71       Good     F     SI2   64.1   60.0   2130  0.00  0.00  0.00\n",
      "49557   0.71       Good     F     SI2   64.1   60.0   2130  0.00  0.00  0.00>\n"
     ]
    }
   ],
   "source": [
    "tempdf=df.loc[:,['x','y']].nunique(axis=1)\n",
    "tempdf=df[tempdf==1]\n",
    "equal_x_y=tempdf.shape[0]\n",
    "print(\"Total Diamonds with equal x and y dimensions: \",equal_x_y)\n",
    "\n",
    "print(tempdf.query)"
   ]
  },
  {
   "cell_type": "markdown",
   "metadata": {},
   "source": [
    "To answer this question, I found all rows that has the same values of X and Y. Using nunique function, I will count distinct observations over the axis"
   ]
  },
  {
   "cell_type": "markdown",
   "metadata": {},
   "source": [
    "# 3. How many of the diamonds have a carat less than the mean carat value?"
   ]
  },
  {
   "cell_type": "code",
   "execution_count": 7,
   "metadata": {},
   "outputs": [
    {
     "name": "stdout",
     "output_type": "stream",
     "text": [
      "Total Diamonds with with Carat less than mean:  31127\n"
     ]
    }
   ],
   "source": [
    "mean_carat=df['carat'].mean()\n",
    "cond=df['carat']<mean_carat\n",
    "diamonds_lessthan=cond.sum()\n",
    "print(\"Total Diamonds with with Carat less than mean: \",diamonds_lessthan)"
   ]
  },
  {
   "cell_type": "markdown",
   "metadata": {},
   "source": [
    "First I calculated the mean value of the carats. Then I checked and summed all rows taht has carat value which is lower than the mean value"
   ]
  },
  {
   "cell_type": "markdown",
   "metadata": {},
   "source": [
    "# 4. How many diamonds have a Premium cut or better? Note that the possible values for the quality of a cut are ranked in ascending order as follows:\n",
    "Fair / Good / Very Good / Premium / Ideal"
   ]
  },
  {
   "cell_type": "code",
   "execution_count": 18,
   "metadata": {},
   "outputs": [
    {
     "name": "stdout",
     "output_type": "stream",
     "text": [
      "Total Diamonds with Premium or better:  35342\n"
     ]
    }
   ],
   "source": [
    "cond=(df['cut']=='Premium') | (df['cut']=='Ideal')\n",
    "prem_or_higher=cond.sum()\n",
    "print(\"Total Diamonds with Premium or better: \",prem_or_higher)"
   ]
  },
  {
   "cell_type": "markdown",
   "metadata": {},
   "source": [
    "First,I checked witch rows has diamond cut = Ideal or to premium, and then summed them"
   ]
  },
  {
   "cell_type": "markdown",
   "metadata": {},
   "source": [
    "# 5. Which diamond has the highest price per carat? What is its value?"
   ]
  },
  {
   "cell_type": "code",
   "execution_count": 23,
   "metadata": {},
   "outputs": [
    {
     "name": "stdout",
     "output_type": "stream",
     "text": [
      "carat           1.04\n",
      "cut        Very Good\n",
      "color              D\n",
      "clarity           IF\n",
      "depth           61.3\n",
      "table             56\n",
      "price          18542\n",
      "x               6.53\n",
      "y               6.55\n",
      "z               4.01\n",
      "Name: 27635, dtype: object\n",
      "****************************************\n",
      "Price per carat of it is  17828.8461538\n"
     ]
    }
   ],
   "source": [
    "tempdf=df['price']/df['carat']\n",
    "index=tempdf.idxmax()\n",
    "print(df.loc[index])\n",
    "print('*'*40)\n",
    "print(\"Price per carat of it is \",tempdf[index])"
   ]
  },
  {
   "cell_type": "markdown",
   "metadata": {},
   "source": [
    "In order to fine the diamond that has the highest price oer value, we defined a new parameter, tempdf. This parameter will store all values of price divided by carat. Then, i used idxmax function that returns the index of first occurrence of a maximum.\n",
    "I also printed the row index so it will be easier to look for this row. "
   ]
  },
  {
   "cell_type": "markdown",
   "metadata": {},
   "source": [
    "# 6. Make a bar plot of the ‘cut’ data. What does it tell us about the frequencies of the individual cut values within the data set?"
   ]
  },
  {
   "cell_type": "code",
   "execution_count": 10,
   "metadata": {
    "scrolled": true
   },
   "outputs": [
    {
     "data": {
      "image/png": "[encoded data removed]",
      "text/plain": [
       "<matplotlib.figure.Figure at 0x1deba667080>"
      ]
     },
     "metadata": {},
     "output_type": "display_data"
    }
   ],
   "source": [
    "df['cut'].value_counts().plot(kind='bar',figsize=(12,4))\n",
    "plt.show()"
   ]
  },
  {
   "cell_type": "markdown",
   "metadata": {},
   "source": [
    "By creating this bar chart, I counted all occurrences that has those specific cut values.From this chart, we can easily conclude that there are more than a 20000 diamonds with ideal cut. Then we have Premium cut with around 15000 diamonds and so on. The least diamonds we have are of Fair cut."
   ]
  },
  {
   "cell_type": "markdown",
   "metadata": {},
   "source": [
    "# 7. Make boxplots of the diamond price for each cut and discuss any conclusions you can draw from the appearance of the boxplots."
   ]
  },
  {
   "cell_type": "code",
   "execution_count": 26,
   "metadata": {},
   "outputs": [
    {
     "data": {
      "image/png": "[encoded data removed]",
      "text/plain": [
       "<matplotlib.figure.Figure at 0x1debbfa2320>"
      ]
     },
     "metadata": {},
     "output_type": "display_data"
    }
   ],
   "source": [
    "tempdf=df.loc[:,['cut','price']]\n",
    "tempdf.boxplot(by='cut',grid=False,figsize=(12,4))\n",
    "plt.show()"
   ]
  },
  {
   "cell_type": "markdown",
   "metadata": {},
   "source": [
    "By creating this box plot you will be able to destinguish different diamond cuts and their prices. You can see that Premium cut diamonds have slightly higher prices as compared to others, and ideal have prices slighly lower. By looking at the whisker, we will be able to understand how are data is spreads. For example, by lookinat the Fair cut, the lowest point in the sample which is the price is above zero, while the highest point is near $10,000. The box starts in a point of a little bit lower than $2500, and the median is around $3,000."
   ]
  },
  {
   "cell_type": "markdown",
   "metadata": {},
   "source": [
    "# 8. Make histograms of the length, width, depth, and total depth attributes and discuss any conclusions you can draw from the shape of the resulting distributions."
   ]
  },
  {
   "cell_type": "code",
   "execution_count": 31,
   "metadata": {},
   "outputs": [
    {
     "data": {
      "image/png": "[encoded data removed]",
      "text/plain": [
       "<matplotlib.figure.Figure at 0x1deba891080>"
      ]
     },
     "metadata": {},
     "output_type": "display_data"
    }
   ],
   "source": [
    "tempdf=df.loc[:,['x','y','z','depth']]\n",
    "tempdf.hist(bins=30,figsize=(12,6))\n",
    "plt.show()"
   ]
  },
  {
   "cell_type": "markdown",
   "metadata": {},
   "source": [
    "By looking at the upper left histogram , you can see  the total depth of diamond which is between 55-65 and it looks like normal distribution. x values are spread between 4-8 and has multiple peaks where the highest one is on 8000 and some peaks around 5000. Looking at Y histogram, you can see that the y values are between 0-10, and have a peak of 30000 values. The Z histogram, shows us that the values are between 2-6 and has a peak of more that 25000 diamonds that have range of Y values that are between 3.5-4.5. "
   ]
  },
  {
   "cell_type": "markdown",
   "metadata": {},
   "source": [
    "# 9. Make a scatter plot of price vs. carat. What can we say about the relationship between those two attributes?"
   ]
  },
  {
   "cell_type": "code",
   "execution_count": 14,
   "metadata": {},
   "outputs": [
    {
     "data": {
      "image/png": "[encoded data removed]",
      "text/plain": [
       "<matplotlib.figure.Figure at 0x178a9bfa710>"
      ]
     },
     "metadata": {},
     "output_type": "display_data"
    }
   ],
   "source": [
    "tempdf=df.loc[:,['carat','price']]\n",
    "tempdf.plot(kind='scatter',x='carat',y='price',figsize=(12,4))\n",
    "plt.show()"
   ]
  },
  {
   "cell_type": "markdown",
   "metadata": {},
   "source": [
    "In this scatter plot, you will be able to see the correlation between price and carats. Price represented on Y axis and carats represented on X axis. You can see thet there is a strong positive relationship between carat and price. The more the carat value the customer wants,  the more the price is. You also can find few exceptional values that are spread out in the plot. Foe example, there is a diamond that has 5 carats and also has an exeptional proce of more than $17500"
   ]
  },
  {
   "cell_type": "code",
   "execution_count": null,
   "metadata": {
    "collapsed": true
   },
   "outputs": [],
   "source": []
  }
 ],
 "metadata": {
  "kernelspec": {
   "display_name": "Python 3",
   "language": "python",
   "name": "python3"
  },
  "language_info": {
   "codemirror_mode": {
    "name": "ipython",
    "version": 3
   },
   "file_extension": ".py",
   "mimetype": "text/x-python",
   "name": "python",
   "nbconvert_exporter": "python",
   "pygments_lexer": "ipython3",
   "version": "3.6.2"
  }
 },
 "nbformat": 4,
 "nbformat_minor": 2
}
