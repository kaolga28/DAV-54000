{
 "cells": [
  {
   "cell_type": "markdown",
   "metadata": {},
   "source": [
    "# America's Gun Culture\n",
    "## DAV 5400 Final Project Proposal\n",
    "### Group Project - By Adva Assraf, Olga Kriyokov"
   ]
  },
  {
   "cell_type": "markdown",
   "metadata": {},
   "source": [
    "## Introduction"
   ]
  },
  {
   "cell_type": "markdown",
   "metadata": {},
   "source": [
    "Gun control is a well-known and well- criticized controversial issue that has been on the news headlines for many years now. There have been countless debates whether or not the U.S. should enforce more gun control laws, especially due to the fact that in recent years the number of gun violence incidents has been on the rise. \n",
    "Nowadays, the U.S. has 120.5 guns per 100 people (about 393,347,000 guns in total) which is the highest per capital number in the world. It is recorded that 22% of Americans own one or more guns.\n",
    "The effects of gun violence are tremendous; Every day, 100 Americans are killed with guns and hundreds more are shot and injured. Furthermore, there are many more who have been mentally affected due to the fact that they have witnesses gun violence incidents. \n",
    "In 2018, more people have died from firearm injuries in the U.S. than in any other year since 1968. In 2017, there were a total of 39,773 deaths caused by guns. A 1,000 more than 2016. \n",
    "It seems that gun violence shapes the lives of millions of Americans who have witnessed it or know someone who was involved in a gun violence incident.  As of today, gun violence in the U.S. constitutes a serious public health crisis, causing more than 30,000 deaths annually. \n",
    "\n",
    "We decided to present some of the terrifying facts about America’s gun culture :\n",
    "\n",
    "•\tApproximately three million American children witness gun violence every year. \n",
    "\n",
    "•\tNearly 1,700 children and teens die by gun homicide every year. \n",
    "\n",
    "•\t11,497,441 firearms were manufactured in the US in 2016.\n",
    "\n",
    "•\t43% of U.S. households own one or more firearms – making the U.S., the most heavily armed civilian population in the world\n",
    "\n",
    "* Source: https://www.statista.com/statistics/215395/number-of-total-firearms-manufactured-in-the-us/\n",
    "https://everytownresearch.org/gun-violence-america/\n",
    "\n",
    "\n",
    "\n",
    "Alarming as the gun violence situation in the U.S. is, America spends more research funds studying hernias and peptic ulcers than it does studying gun violence. We decided to dive deep into the data in order to research the correlation between gun sales and gun violence incidents. In this research we will explore the different gunshot incidents that occurred in the U.S. between January 2013 and March 2018 and the gun sale evolution between those years. The main purpose of this research is to be able to conclude if a gun free zone could prevent gun incidents and mass shootings or encourage them.  "
   ]
  },
  {
   "cell_type": "markdown",
   "metadata": {},
   "source": [
    "## Data sources"
   ]
  },
  {
   "cell_type": "markdown",
   "metadata": {},
   "source": [
    "1.\thttps://www.kaggle.com/addavner/shootgun#nics-firearm-background-checks.csv\n",
    "\n",
    "Evolution of gun sales between 2007-2018; this dataset is in a format of a CSV file and contains data on types of weapons and their permits in different U.S. states. \n",
    "\n",
    "2.\t https://www.gunviolencearchive.org\n",
    "\n",
    "The Gun Violence Archive (GVA) is a non-profit organization that provides free online public access to gun-related violence data in the U.S. All of the gun violence incidents that took place between the years of 2013- 2018 are recorded. "
   ]
  },
  {
   "cell_type": "markdown",
   "metadata": {},
   "source": [
    "## Approach"
   ]
  },
  {
   "cell_type": "markdown",
   "metadata": {},
   "source": [
    "The first step of our data research will be to clean the data and then perform data wrangling in order to transform and map the “raw” data into an organized dataset. \n",
    "The first data source mentioned above will be easier to clean and manipulate due to the fact that it is in a CSV format; we will clean the data, check for missing values and reassign column names if needed. \n",
    "\n",
    "For the second data source we will use web scrapping due to the fact that the current “Export to CSV” function on the GVA website is missing crucial functionality which leads to many missing fields. We will perform web scrapping with a Python script that will arrange all incidents between the years of 2013- 2018 into CSV files, each month will be exported into a unique CSV file. Later on, we will add additional data that is not directly viewable from the query results page (participants information, geographical location, etc). The final step will be to incorporate all the different CSV files that we have created into one in order to analyze the data. \n",
    "Both CSV files will be uploaded to Github. \n",
    "\n",
    "Tasks to be assigned –we decided that we will share work as in past assignments \n"
   ]
  },
  {
   "cell_type": "markdown",
   "metadata": {},
   "source": [
    "## Research Questions"
   ]
  },
  {
   "cell_type": "markdown",
   "metadata": {},
   "source": [
    "1.\tHow have gun sales changed between the years of 2013- 2018? \n",
    "2.\tHow have gun incidents occurrence changed between the years of 2013- 2018?\n",
    "3.\tWhich states have highest gun violence incidents between the years of 2013- 2018?\n",
    "4.\tWhich states have the highest number of guns sales between the years of 2013- 2018?\n",
    "5.\tIs there a correlation between citizen gun ownership and shooting incident location?\n",
    "6.  What are the expected fluctuations in gun sales based on historic data?"
   ]
  },
  {
   "cell_type": "markdown",
   "metadata": {},
   "source": [
    "## Statistical analysis and visualization\n",
    "#### The visualization is according to the research questions"
   ]
  },
  {
   "cell_type": "markdown",
   "metadata": {},
   "source": [
    "1. To be able to answer this questions, we will use a time series chart. In this chart, we will display the fluctuation of gun sales during the different years. We will attempt to use dynamic chart, so that the reader will be able to drill down to monthly/weekly resolution as he desire. \n",
    "\n",
    "\n",
    "2.\tAs in the question above, we will use the same visualization method. We will present the gun incident analysis in a time series line chart. In this chart we will present number of incidents throughout the years.\n",
    "\n",
    "\n",
    "3. In this question, we will use dynamic Geo Map to differentiate between the states and showing the states with highest number of incidents.  \n",
    "\n",
    "\n",
    "4. Since the answer to question number 4 aims to compare and contrasts between the states, we will present the data in a form of a bar chart with a trend line in order to better convey the results. \n",
    "\n",
    "\n",
    "5. For this question, we will present the data in a form of a scatterplot due to the fact that it will summarize the correlation coefficient of the association between the two variables in the best way.\n"
   ]
  },
  {
   "cell_type": "code",
   "execution_count": null,
   "metadata": {
    "collapsed": true
   },
   "outputs": [],
   "source": []
  }
 ],
 "metadata": {
  "kernelspec": {
   "display_name": "Python 3",
   "language": "python",
   "name": "python3"
  },
  "language_info": {
   "codemirror_mode": {
    "name": "ipython",
    "version": 3
   },
   "file_extension": ".py",
   "mimetype": "text/x-python",
   "name": "python",
   "nbconvert_exporter": "python",
   "pygments_lexer": "ipython3",
   "version": "3.6.2"
  }
 },
 "nbformat": 4,
 "nbformat_minor": 2
}
