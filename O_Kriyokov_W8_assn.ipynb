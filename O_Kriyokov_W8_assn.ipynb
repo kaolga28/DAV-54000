{
 "cells": [
  {
   "cell_type": "markdown",
   "metadata": {},
   "source": [
    "# DAV 5400 Spring 2019 Week 8 Assignment\n",
    "## Regular Expressions\n",
    "### Student name: Olga Kriyokov"
   ]
  },
  {
   "cell_type": "markdown",
   "metadata": {},
   "source": [
    "Text data is often in need of “cleaning” and preparation before it can be effectively used for analysis purposes. Consider\n",
    "the following poorly formatted text string containing names and phone numbers of some residents of the town of\n",
    "Springfield:"
   ]
  },
  {
   "cell_type": "markdown",
   "metadata": {},
   "source": [
    "\"555-1239Moe Szyslak(636) 555-0113Burns, C. Montgomery555 -6542Rev. Timothy Lovejoy555\n",
    "8904Ned Flanders636-555-3226Simpson, Homer5553642Dr. Julius Hibbert\""
   ]
  },
  {
   "cell_type": "markdown",
   "metadata": {},
   "source": [
    "# Question 1 "
   ]
  },
  {
   "cell_type": "markdown",
   "metadata": {},
   "source": [
    "Extract the names of each individual from the unformatted text string and store them in a vector of some sort."
   ]
  },
  {
   "cell_type": "code",
   "execution_count": 4,
   "metadata": {},
   "outputs": [
    {
     "name": "stdout",
     "output_type": "stream",
     "text": [
      "Names:  ['Moe Szyslak', 'Burns, C. Montgomery', 'Rev. Timothy Lovejoy', 'Ned Flanders', 'Simpson, Homer', 'Dr. Julius Hibbert']\n"
     ]
    }
   ],
   "source": [
    "import re    \n",
    "    \n",
    "#Here is the rules that I followed for extracting names\n",
    "#for Title (?:[A-Z][a-z]*\\.*\\s)?\n",
    "#for Names [A-Z][a-z]+,?\\s+\n",
    "# for middle names (?:[A-Z][a-z]*\\.?\\s*)?\n",
    "#for last name [A-Z][a-z]+\n",
    "string = \"555-1239Moe Szyslak(636) 555-0113Burns, C. Montgomery555 -6542Rev. Timothy Lovejoy555 8904Ned Flanders636-555-3226Simpson, Homer5553642Dr. Julius Hibbert\"\n",
    "vector_names = re.findall(r\"(?:[A-Z][a-z]*\\.*\\s)?[A-Z][a-z]+,?\\s+(?:[A-Z][a-z]*\\.?\\s*)?[A-Z][a-z]+\", string)\n",
    "\n",
    "print(\"Names: \", vector_names)"
   ]
  },
  {
   "cell_type": "markdown",
   "metadata": {},
   "source": [
    "# Question 2"
   ]
  },
  {
   "cell_type": "markdown",
   "metadata": {},
   "source": [
    "Using your new vector containing only the names of the six individuals, complete the following tasks:\n",
    "\n",
    "a. Use your regex skills to rearrange the vector so that all elements conform to the standard “firstname\n",
    "lastname”, preserving any titles (e.g., “Rev.”, “Dr.”, etc) or middle/second names.\n",
    "\n",
    "b. Construct a logical vector indicating whether a character has a title (i.e., Rev. and Dr.).\n",
    "\n",
    "c. Construct a logical vector indicating whether a character has a middle/second name."
   ]
  },
  {
   "cell_type": "code",
   "execution_count": 16,
   "metadata": {},
   "outputs": [
    {
     "name": "stdout",
     "output_type": "stream",
     "text": [
      "A. FirstName LastName:  ['Moe Szyslak', 'Burns, Montgomery', 'Timothy Lovejoy', 'Ned Flanders', 'Simpson, Homer', 'Julius Hibbert']\n",
      "B. Titles:  [False, False, True, False, False, True]\n",
      "C. Middle Name:  [False, True, False, False, False, False]\n"
     ]
    }
   ],
   "source": [
    "#Question 2\n",
    "#for first and last name replced using this (?:[A-Z][a-z]*\\.\\s*)\n",
    "#for titles used this regex (?:[A-Z][a-z]+\\.+\\s)\n",
    "#for middle name  used this regex (?:[A-Z]\\.+\\s)\n",
    "v_firstlast = []\n",
    "v_hasTitle = []\n",
    "v_hasMiddleName = []\n",
    "\n",
    "for name in vector_names:\n",
    "    vector_hasMiddleName.append(bool(re.search(r'(?:[A-Z]\\.+\\s)',name)))\n",
    "    vector_hasTitle.append(bool(re.search(r'(?:[A-Z][a-z]+\\.+\\s)',name)))\n",
    "    \n",
    "    if(vector_hasMiddleName[len(vector_hasMiddleName)-1]):\n",
    "        middle = re.search(r'(?:[A-Z]\\.+\\s)',name)\n",
    "        name = re.sub(r'(?:[A-Z]\\.+\\s)','',name)\n",
    "        name = middle[0] + \" \" + name\n",
    "        vector_firstlast.append(name)\n",
    "        continue\n",
    "    \n",
    "    vector_firstlast.append(name)\n",
    "\n",
    "    \n",
    "print(\"A. FirstName LastName: \", v_firstlast)\n",
    "print(\"B. Titles: \", v_hasTitle)\n",
    "print(\"C. Middle Name: \", v_hasMiddleName)"
   ]
  },
  {
   "cell_type": "markdown",
   "metadata": {},
   "source": [
    "# Question 3"
   ]
  },
  {
   "cell_type": "markdown",
   "metadata": {},
   "source": [
    "Consider the HTML string - extract the first HTML tag "
   ]
  },
  {
   "cell_type": "code",
   "execution_count": 17,
   "metadata": {},
   "outputs": [
    {
     "name": "stdout",
     "output_type": "stream",
     "text": [
      "<title>+++BREAKING NEWS+++<title>\n",
      "HTML:  <_sre.SRE_Match object; span=(0, 7), match='<title>'>\n"
     ]
    }
   ],
   "source": [
    "#Question 3\n",
    "#The problem with using this <.+> regex was, that it returned all the text.\n",
    "#So the correct is:  (?:<[a-z]+>)\n",
    "html = \"<title>+++BREAKING NEWS+++<title>\"\n",
    "search_tag = re.search(r'(?:<[a-z]+>)',html)\n",
    "\n",
    "print(html)\n",
    "print(\"HTML: \",search_tag)"
   ]
  },
  {
   "cell_type": "markdown",
   "metadata": {},
   "source": [
    "# Question 4"
   ]
  },
  {
   "cell_type": "markdown",
   "metadata": {},
   "source": [
    "Consider the string “(5-3)^2=5^2-2*5*3+3^2” conforms to the binomial theorem. We would like to extract the\n",
    "formula in the string. To do so we write the regular expression “[^0-9=+*()]+”. Explain why this fails and correct the\n",
    "expression"
   ]
  },
  {
   "cell_type": "code",
   "execution_count": 18,
   "metadata": {},
   "outputs": [
    {
     "name": "stdout",
     "output_type": "stream",
     "text": [
      "Expression:  (5-3)^2=5^2-2*5*3+3^2\n",
      "<_sre.SRE_Match object; span=(0, 21), match='(5-3)^2=5^2-2*5*3+3^2'>\n"
     ]
    }
   ],
   "source": [
    "#The problem with [^0-9=+*()]+ was that it didn't return full form of formula and gave partial of it\n",
    "#Regex used \\([0-9]-[0-9]\\)+\\^[0-9]=[0-9]\\^[0-9]-[0-9]\\*[0-9]\\*[0-9]\\+[0-9]\\^[0-9]\n",
    "exp = \"(5-3)^2=5^2-2*5*3+3^2\"\n",
    "formula = re.match(r'\\([0-9]-[0-9]\\)+\\^[0-9]=[0-9]\\^[0-9]-[0-9]\\*[0-9]\\*[0-9]\\+[0-9]\\^[0-9]',exp)\n",
    "\n",
    "print(\"Expression: \",exp)\n",
    "print(formula)"
   ]
  }
 ],
 "metadata": {
  "kernelspec": {
   "display_name": "Python 3",
   "language": "python",
   "name": "python3"
  },
  "language_info": {
   "codemirror_mode": {
    "name": "ipython",
    "version": 3
   },
   "file_extension": ".py",
   "mimetype": "text/x-python",
   "name": "python",
   "nbconvert_exporter": "python",
   "pygments_lexer": "ipython3",
   "version": "3.6.2"
  }
 },
 "nbformat": 4,
 "nbformat_minor": 2
}
