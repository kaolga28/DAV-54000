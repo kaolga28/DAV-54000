{
 "cells": [
  {
   "cell_type": "markdown",
   "metadata": {},
   "source": [
    "# Project: Tidy Data\n",
    "\n",
    "## Student Name: Olga Kriyokov"
   ]
  },
  {
   "cell_type": "markdown",
   "metadata": {},
   "source": [
    "Our task was to choose any three of the “wide” datasets identified by the classmates in the Week 9 Discussion item\n",
    "\n",
    "The 3 datasets that I chose to dissect: \n",
    "\n",
    "1. Natan Bienstock: Student Test Data. Self created data sete that contain grades for students in a math class\n",
    "   \n",
    "2. Jacob Goodman: 2020 Democratic Presidential Nomination \n",
    "   Source - https://www.realclearpolitics.com/epolls/2020/president/us/2020_democratic_presidential_nomination-6730.html\n",
    "\n",
    "3. Jeeho Bae: destination reviews - The reviews falling in 6 categories among destinations across South India were considered, \n",
    "   and the count of reviews in each category for every reviewer (traveler) is captured.\n",
    "  \n",
    "\n",
    "Working on each data set, I followed the next tasks: \n",
    "1. Create a .CSV file that includes all of the information included in the dataset\n",
    "2. Read the information from the .CSV file into a Jupyter Notebook, combining and\n",
    "   reshaping data in Pandas to tidy and transform your data.\n",
    "3. Perform the analysis requested in the discussion item. \n",
    "\n",
    "* the questions of each data set will be presented separetly"
   ]
  },
  {
   "cell_type": "code",
   "execution_count": 29,
   "metadata": {
    "collapsed": true
   },
   "outputs": [],
   "source": [
    "import pandas as pd\n",
    "import numpy as np"
   ]
  },
  {
   "cell_type": "markdown",
   "metadata": {},
   "source": [
    "# Student Test Data by Natan Bienstock\n",
    "\n",
    "With this dataset we can answer questions such as:\n",
    "\n",
    "1. Which student had the highest average test grades?\n",
    "\n",
    "2. Which student had the greatest range of test grades?\n",
    "\n",
    "3. Which test had the highest grades?\n",
    "\n",
    "I filtered the data, and dropped rows with NAN values, after that, I presented final filtered data version"
   ]
  },
  {
   "cell_type": "code",
   "execution_count": 30,
   "metadata": {
    "collapsed": true
   },
   "outputs": [],
   "source": [
    "data=pd.read_csv('Test results.csv')"
   ]
  },
  {
   "cell_type": "code",
   "execution_count": 31,
   "metadata": {
    "scrolled": true
   },
   "outputs": [
    {
     "name": "stdout",
     "output_type": "stream",
     "text": [
      "            Name  Test 1  Test 2  Test 3  Test 4  Unnamed: 5  Unnamed: 6\n",
      "0  Reggie miller    97.0      80    87.0      91         NaN         NaN\n",
      "1     Dan Bonner    76.0      68    80.0      81         NaN         NaN\n"
     ]
    }
   ],
   "source": [
    "print (data.head(2))"
   ]
  },
  {
   "cell_type": "code",
   "execution_count": 32,
   "metadata": {},
   "outputs": [
    {
     "name": "stdout",
     "output_type": "stream",
     "text": [
      "            Name  Test 1  Test 2  Test 3  Test 4\n",
      "0  Reggie miller    97.0      80    87.0      91\n",
      "1     Dan Bonner    76.0      68    80.0      81\n"
     ]
    }
   ],
   "source": [
    "cols_to_keep=['Name', 'Test 1', 'Test 2', 'Test 3', 'Test 4']\n",
    "filtered_data=data[cols_to_keep]\n",
    "print (filtered_data.head(2))"
   ]
  },
  {
   "cell_type": "code",
   "execution_count": 33,
   "metadata": {},
   "outputs": [
    {
     "name": "stdout",
     "output_type": "stream",
     "text": [
      "            Name  Test 1  Test 2  Test 3  Test 4\n",
      "0  Reggie miller    97.0      80    87.0      91\n",
      "1     Dan Bonner    76.0      68    80.0      81\n",
      "2    Steve Smith    84.0      75     NaN      86\n",
      "3  Charls Barkey     NaN      89     NaN      76\n",
      "4    Kenny Smith    80.0      81    79.0      85\n",
      "5   Chris Webber    75.0      75    76.0      92\n",
      "6     Jalen Rose    80.0      85    84.0      83\n",
      "7    Jim Jackson    92.0      91    94.0      95\n"
     ]
    }
   ],
   "source": [
    "filtered_data=filtered_data.dropna(how='all') \n",
    "print (filtered_data)"
   ]
  },
  {
   "cell_type": "markdown",
   "metadata": {},
   "source": [
    "### Question #1 -  Which student had the highest average test grades?"
   ]
  },
  {
   "cell_type": "code",
   "execution_count": 34,
   "metadata": {},
   "outputs": [
    {
     "name": "stdout",
     "output_type": "stream",
     "text": [
      "highest average test grades:  7    Jim Jackson\n",
      "Name: Name, dtype: object\n"
     ]
    }
   ],
   "source": [
    "filtered_data['total']=filtered_data.sum(axis=1)\n",
    "print (\"highest average test grades: \",filtered_data['Name'].loc[filtered_data[['total']].idxmax()] )"
   ]
  },
  {
   "cell_type": "markdown",
   "metadata": {},
   "source": [
    " ### Question #2 - Which student had the greatest range of test grades?\n",
    " \n",
    " In this question, I tweaked NAN's values in order to get maximum and minimum values"
   ]
  },
  {
   "cell_type": "code",
   "execution_count": 35,
   "metadata": {},
   "outputs": [
    {
     "name": "stdout",
     "output_type": "stream",
     "text": [
      "            Name  Test 1  Test 2  Test 3  Test 4  total   Max   Min  Diff\n",
      "0  Reggie miller    97.0      80    87.0      91  355.0  97.0  80.0  17.0\n",
      "1     Dan Bonner    76.0      68    80.0      81  305.0  81.0  68.0  13.0\n",
      "2    Steve Smith    84.0      75     NaN      86  245.0  86.0  75.0  11.0\n",
      "3  Charls Barkey     NaN      89     NaN      76  165.0  89.0  76.0  13.0\n",
      "4    Kenny Smith    80.0      81    79.0      85  325.0  85.0  79.0   6.0\n",
      "5   Chris Webber    75.0      75    76.0      92  318.0  92.0  75.0  17.0\n",
      "6     Jalen Rose    80.0      85    84.0      83  332.0  85.0  80.0   5.0\n",
      "7    Jim Jackson    92.0      91    94.0      95  372.0  95.0  91.0   4.0\n",
      "greatest range of test grades:  0    Reggie miller\n",
      "Name: Name, dtype: object\n"
     ]
    }
   ],
   "source": [
    "filtered_data.fillna(-100, inplace=True)\n",
    "filtered_data['Max'] = filtered_data[['Test 1', 'Test 2', 'Test 3', 'Test 4']].max(axis=1)\n",
    "filtered_data.replace(-100,101,inplace=True)\n",
    "filtered_data['Min'] = filtered_data[['Test 1', 'Test 2', 'Test 3', 'Test 4']].min(axis=1)\n",
    "filtered_data.replace(101,np.nan,inplace=True)\n",
    "filtered_data['Diff']=filtered_data['Max']-filtered_data['Min']\n",
    "print (filtered_data)\n",
    "print (\"greatest range of test grades: \",filtered_data['Name'].loc[filtered_data[['Diff']].idxmax()] )\n"
   ]
  },
  {
   "cell_type": "markdown",
   "metadata": {},
   "source": [
    "### Question #3 -  Which test had the highest grades?"
   ]
  },
  {
   "cell_type": "code",
   "execution_count": 36,
   "metadata": {},
   "outputs": [
    {
     "name": "stdout",
     "output_type": "stream",
     "text": [
      "all:\n",
      " Test 1    83.428571\n",
      "Test 2    80.500000\n",
      "Test 3    83.333333\n",
      "Test 4    86.125000\n",
      "dtype: float64\n",
      "max:  86.125 \n",
      " Answer is Test 4\n"
     ]
    }
   ],
   "source": [
    "temp=filtered_data[['Test 1', 'Test 2', 'Test 3', 'Test 4']].mean(axis=0)\n",
    "print (\"all:\\n\",temp)\n",
    "print (\"max: \",max(temp), \"\\n Answer is Test 4\")"
   ]
  },
  {
   "cell_type": "markdown",
   "metadata": {},
   "source": [
    "Conclusion -\n",
    "Jim Jackson has the highest average test grades\n",
    "\n",
    "Reggie miller has the best range of test grades. \n",
    "\n",
    "And Test 4 had the highest grades"
   ]
  },
  {
   "cell_type": "markdown",
   "metadata": {},
   "source": [
    "# 2nd DataSet Realclear Politics - 2020 Democratic Presidential Nomination\n",
    "#### By Jacob Goodman "
   ]
  },
  {
   "cell_type": "code",
   "execution_count": 1,
   "metadata": {},
   "outputs": [
    {
     "ename": "NameError",
     "evalue": "name 'pd' is not defined",
     "output_type": "error",
     "traceback": [
      "\u001b[1;31m---------------------------------------------------------------------------\u001b[0m",
      "\u001b[1;31mNameError\u001b[0m                                 Traceback (most recent call last)",
      "\u001b[1;32m<ipython-input-1-99d7f85538b1>\u001b[0m in \u001b[0;36m<module>\u001b[1;34m()\u001b[0m\n\u001b[1;32m----> 1\u001b[1;33m \u001b[0mdata\u001b[0m\u001b[1;33m=\u001b[0m\u001b[0mpd\u001b[0m\u001b[1;33m.\u001b[0m\u001b[0mread_csv\u001b[0m\u001b[1;33m(\u001b[0m\u001b[1;34m'RealclearPolitics.csv'\u001b[0m\u001b[1;33m)\u001b[0m\u001b[1;33m\u001b[0m\u001b[0m\n\u001b[0m\u001b[0;32m      2\u001b[0m \u001b[1;33m\u001b[0m\u001b[0m\n",
      "\u001b[1;31mNameError\u001b[0m: name 'pd' is not defined"
     ]
    }
   ],
   "source": [
    "data=pd.read_csv('RealclearPolitics.csv')\n",
    "\n"
   ]
  },
  {
   "cell_type": "code",
   "execution_count": 38,
   "metadata": {},
   "outputs": [
    {
     "data": {
      "text/html": [
       "<div>\n",
       "<style scoped>\n",
       "    .dataframe tbody tr th:only-of-type {\n",
       "        vertical-align: middle;\n",
       "    }\n",
       "\n",
       "    .dataframe tbody tr th {\n",
       "        vertical-align: top;\n",
       "    }\n",
       "\n",
       "    .dataframe thead th {\n",
       "        text-align: right;\n",
       "    }\n",
       "</style>\n",
       "<table border=\"1\" class=\"dataframe\">\n",
       "  <thead>\n",
       "    <tr style=\"text-align: right;\">\n",
       "      <th></th>\n",
       "      <th>Poll</th>\n",
       "      <th>Date</th>\n",
       "      <th>Biden</th>\n",
       "      <th>Sanders</th>\n",
       "      <th>Harris</th>\n",
       "      <th>O'Rourke</th>\n",
       "      <th>Warren</th>\n",
       "      <th>Booker</th>\n",
       "      <th>Klobuchar</th>\n",
       "      <th>Buttigieg</th>\n",
       "      <th>Hickenlooper</th>\n",
       "      <th>Castro</th>\n",
       "      <th>Inslee</th>\n",
       "      <th>Gillibrand</th>\n",
       "      <th>Spread</th>\n",
       "    </tr>\n",
       "  </thead>\n",
       "  <tbody>\n",
       "    <tr>\n",
       "      <th>0</th>\n",
       "      <td>RCP Average</td>\n",
       "      <td>2/19 - 3/18</td>\n",
       "      <td>29.4</td>\n",
       "      <td>23.4</td>\n",
       "      <td>10.4</td>\n",
       "      <td>8</td>\n",
       "      <td>6.6</td>\n",
       "      <td>4</td>\n",
       "      <td>2.3</td>\n",
       "      <td>1.3</td>\n",
       "      <td>1</td>\n",
       "      <td>0.8</td>\n",
       "      <td>0.8</td>\n",
       "      <td>0.4</td>\n",
       "      <td>Biden +6.0</td>\n",
       "    </tr>\n",
       "    <tr>\n",
       "      <th>1</th>\n",
       "      <td>Emerson</td>\n",
       "      <td>3/17 - 3/18</td>\n",
       "      <td>26.0</td>\n",
       "      <td>26.0</td>\n",
       "      <td>12.0</td>\n",
       "      <td>11</td>\n",
       "      <td>8.0</td>\n",
       "      <td>3</td>\n",
       "      <td>1</td>\n",
       "      <td>3</td>\n",
       "      <td>1</td>\n",
       "      <td>1</td>\n",
       "      <td>1</td>\n",
       "      <td>0</td>\n",
       "      <td>Tie</td>\n",
       "    </tr>\n",
       "  </tbody>\n",
       "</table>\n",
       "</div>"
      ],
      "text/plain": [
       "          Poll         Date  Biden  Sanders  Harris O'Rourke  Warren Booker  \\\n",
       "0  RCP Average  2/19 - 3/18   29.4     23.4    10.4        8     6.6      4   \n",
       "1      Emerson  3/17 - 3/18   26.0     26.0    12.0       11     8.0      3   \n",
       "\n",
       "  Klobuchar Buttigieg Hickenlooper Castro Inslee Gillibrand      Spread  \n",
       "0       2.3       1.3            1    0.8    0.8        0.4  Biden +6.0  \n",
       "1         1         3            1      1      1          0         Tie  "
      ]
     },
     "execution_count": 38,
     "metadata": {},
     "output_type": "execute_result"
    }
   ],
   "source": [
    "data.head(2)"
   ]
  },
  {
   "cell_type": "markdown",
   "metadata": {},
   "source": [
    "### Question 1 - Does any of the candidates are generating any momentum (positive gain)\n",
    "### Question 2 - By looking at the variability between polls to try and understand what kind of margin of error might exist in the data. "
   ]
  },
  {
   "cell_type": "code",
   "execution_count": 39,
   "metadata": {},
   "outputs": [
    {
     "name": "stdout",
     "output_type": "stream",
     "text": [
      "Biden is the candidate generating momentum\n",
      "Considering the empty values, I can derive that the data isn't complete for accurate analysis\n"
     ]
    }
   ],
   "source": [
    "old=data.iloc[9]\n",
    "new=data.iloc[11]\n",
    "#old-new\n",
    "print (\"Biden is the candidate generating momentum\")\n",
    "print (\"Considering the empty values, I can derive that the data isn't complete for accurate analysis\")"
   ]
  },
  {
   "cell_type": "markdown",
   "metadata": {},
   "source": [
    "# 3rd Data set - destination reviews\n",
    "### by Jeeho Bae"
   ]
  },
  {
   "cell_type": "code",
   "execution_count": 21,
   "metadata": {
    "collapsed": true
   },
   "outputs": [],
   "source": [
    "data=pd.read_csv('userid.csv')"
   ]
  },
  {
   "cell_type": "code",
   "execution_count": 27,
   "metadata": {},
   "outputs": [
    {
     "data": {
      "text/html": [
       "<div>\n",
       "<style scoped>\n",
       "    .dataframe tbody tr th:only-of-type {\n",
       "        vertical-align: middle;\n",
       "    }\n",
       "\n",
       "    .dataframe tbody tr th {\n",
       "        vertical-align: top;\n",
       "    }\n",
       "\n",
       "    .dataframe thead th {\n",
       "        text-align: right;\n",
       "    }\n",
       "</style>\n",
       "<table border=\"1\" class=\"dataframe\">\n",
       "  <thead>\n",
       "    <tr style=\"text-align: right;\">\n",
       "      <th></th>\n",
       "      <th>user ID</th>\n",
       "      <th>Sports</th>\n",
       "      <th>religious</th>\n",
       "      <th>Nature</th>\n",
       "      <th>Theatre</th>\n",
       "      <th>Shopping</th>\n",
       "      <th>picnic</th>\n",
       "    </tr>\n",
       "  </thead>\n",
       "  <tbody>\n",
       "    <tr>\n",
       "      <th>0</th>\n",
       "      <td>User 1</td>\n",
       "      <td>2</td>\n",
       "      <td>77</td>\n",
       "      <td>79</td>\n",
       "      <td>69</td>\n",
       "      <td>68</td>\n",
       "      <td>95</td>\n",
       "    </tr>\n",
       "    <tr>\n",
       "      <th>1</th>\n",
       "      <td>User 2</td>\n",
       "      <td>2</td>\n",
       "      <td>62</td>\n",
       "      <td>76</td>\n",
       "      <td>76</td>\n",
       "      <td>69</td>\n",
       "      <td>68</td>\n",
       "    </tr>\n",
       "    <tr>\n",
       "      <th>2</th>\n",
       "      <td>User 3</td>\n",
       "      <td>2</td>\n",
       "      <td>50</td>\n",
       "      <td>97</td>\n",
       "      <td>87</td>\n",
       "      <td>50</td>\n",
       "      <td>75</td>\n",
       "    </tr>\n",
       "    <tr>\n",
       "      <th>3</th>\n",
       "      <td>User 4</td>\n",
       "      <td>2</td>\n",
       "      <td>68</td>\n",
       "      <td>77</td>\n",
       "      <td>95</td>\n",
       "      <td>76</td>\n",
       "      <td>61</td>\n",
       "    </tr>\n",
       "    <tr>\n",
       "      <th>4</th>\n",
       "      <td>User 5</td>\n",
       "      <td>2</td>\n",
       "      <td>98</td>\n",
       "      <td>54</td>\n",
       "      <td>59</td>\n",
       "      <td>95</td>\n",
       "      <td>86</td>\n",
       "    </tr>\n",
       "  </tbody>\n",
       "</table>\n",
       "</div>"
      ],
      "text/plain": [
       "  user ID  Sports  religious  Nature  Theatre  Shopping  picnic\n",
       "0  User 1       2         77      79       69        68      95\n",
       "1  User 2       2         62      76       76        69      68\n",
       "2  User 3       2         50      97       87        50      75\n",
       "3  User 4       2         68      77       95        76      61\n",
       "4  User 5       2         98      54       59        95      86"
      ]
     },
     "execution_count": 27,
     "metadata": {},
     "output_type": "execute_result"
    }
   ],
   "source": [
    "data.head(10)"
   ]
  },
  {
   "cell_type": "markdown",
   "metadata": {},
   "source": [
    "## Looking at this data, we can see that there are no abnormal values or values that are not possible,\n",
    "## due to that, this data Set is already clean"
   ]
  },
  {
   "cell_type": "markdown",
   "metadata": {},
   "source": [
    "### Q1 which class among the six has the highest frequency of reviews by the users"
   ]
  },
  {
   "cell_type": "code",
   "execution_count": 26,
   "metadata": {},
   "outputs": [
    {
     "name": "stdout",
     "output_type": "stream",
     "text": [
      "user ID      User 1User 2User 3User 4User 5\n",
      "Sports                                   10\n",
      "religious                               355\n",
      "Nature                                  383\n",
      "Theatre                                 386\n",
      "Shopping                                358\n",
      "picnic                                  385\n",
      "dtype: object\n",
      "So theatre has highest frequency of reviews by the users\n",
      "\n",
      "\n",
      "\n"
     ]
    }
   ],
   "source": [
    "print (data.sum(axis=0))\n",
    "print (\"So theatre has highest frequency of reviews by the users\\n\\n\\n\")"
   ]
  },
  {
   "cell_type": "markdown",
   "metadata": {},
   "source": [
    "### Q2. I added another question to Jeeho's data set : what is the average score in each category"
   ]
  },
  {
   "cell_type": "code",
   "execution_count": 25,
   "metadata": {},
   "outputs": [
    {
     "name": "stdout",
     "output_type": "stream",
     "text": [
      "Average Scores\n",
      "\n",
      "Sports        2.0\n",
      "religious    71.0\n",
      "Nature       76.6\n",
      "Theatre      77.2\n",
      "Shopping     71.6\n",
      "picnic       77.0\n",
      "dtype: float64\n"
     ]
    }
   ],
   "source": [
    "print (\"Average Scores\\n\")\n",
    "print (data.mean(axis=0))"
   ]
  },
  {
   "cell_type": "markdown",
   "metadata": {},
   "source": [
    "As it shown, Picnic subject has the highest average score review"
   ]
  },
  {
   "cell_type": "code",
   "execution_count": null,
   "metadata": {
    "collapsed": true
   },
   "outputs": [],
   "source": []
  }
 ],
 "metadata": {
  "kernelspec": {
   "display_name": "Python 3",
   "language": "python",
   "name": "python3"
  },
  "language_info": {
   "codemirror_mode": {
    "name": "ipython",
    "version": 3
   },
   "file_extension": ".py",
   "mimetype": "text/x-python",
   "name": "python",
   "nbconvert_exporter": "python",
   "pygments_lexer": "ipython3",
   "version": "3.6.2"
  }
 },
 "nbformat": 4,
 "nbformat_minor": 2
}
