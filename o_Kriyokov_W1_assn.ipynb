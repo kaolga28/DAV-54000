{
 "cells": [
  {
   "cell_type": "markdown",
   "metadata": {},
   "source": [
    "GitHUb Link: https://github.com/kaolga28/DAV-54000\n",
    "\n",
    "Original Dataset Link: https://archive.ics.uci.edu/ml/machine-learning-databases/wine/\n",
    "\n",
    "As a big fan of red wine, I found this data very interesting, learning about different wine factors that can predict the quality of wine and their meaning. I think this data will be well used in regression and classification. For example, which factors has influence on the wine quality, which factors make the wine a good wine. Are there any relationships between the different variables?\n",
    "\n"
   ]
  }
 ],
 "metadata": {
  "kernelspec": {
   "display_name": "Python 3",
   "language": "python",
   "name": "python3"
  },
  "language_info": {
   "codemirror_mode": {
    "name": "ipython",
    "version": 3
   },
   "file_extension": ".py",
   "mimetype": "text/x-python",
   "name": "python",
   "nbconvert_exporter": "python",
   "pygments_lexer": "ipython3",
   "version": "3.6.2"
  }
 },
 "nbformat": 4,
 "nbformat_minor": 2
}
