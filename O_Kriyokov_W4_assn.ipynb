{
 "cells": [
  {
   "cell_type": "code",
   "execution_count": 4,
   "metadata": {},
   "outputs": [
    {
     "name": "stdout",
     "output_type": "stream",
     "text": [
      "Common values between two arrays:\n",
      "[2 4]\n"
     ]
    }
   ],
   "source": [
    "#task1 Write a Python/NumPy code block that finds the distinct/unique common items between these two arrays\n",
    "\n",
    "import numpy as np\n",
    "a = np.array([1, 2, 3, 2, 3, 4, 3, 4, 5, 6]) # create first array\n",
    "b = np.array([7, 2, 10, 2, 7, 4, 9, 4, 9, 8]) #create second array\n",
    "\n",
    "print(\"Common values between two arrays:\")\n",
    "print(np.intersect1d(a, b))"
   ]
  },
  {
   "cell_type": "code",
   "execution_count": 67,
   "metadata": {},
   "outputs": [
    {
     "data": {
      "text/plain": [
       "array([[ 1,  6, 11],\n",
       "       [ 2,  7, 12],\n",
       "       [ 3,  8, 13],\n",
       "       [ 4,  9, 14],\n",
       "       [ 5, 10, 15]])"
      ]
     },
     "execution_count": 67,
     "metadata": {},
     "output_type": "execute_result"
    }
   ],
   "source": [
    "#task 2 - Create  5x3 array using knowledge you have of Python’s / NumPy’s sequencing functionality so that you\n",
    "#do not need to explicitly key in every integer value.\n",
    "\n",
    "array = np.arange(1,16).reshape(3,5).T  # start array from 1 to 16 not including 16. reshape it to 3*5 and swap Axes\n",
    "array\n"
   ]
  },
  {
   "cell_type": "code",
   "execution_count": 68,
   "metadata": {},
   "outputs": [
    {
     "data": {
      "text/plain": [
       "array([ 1,  7,  8, 15])"
      ]
     },
     "execution_count": 68,
     "metadata": {},
     "output_type": "execute_result"
    }
   ],
   "source": [
    "#task 3 - remove from array a any items that are also present in array b\n",
    "a = np.array([12, 5, 7, 15, 3, 1, 8])\n",
    "b = np.array([14, 6, 3, 11, 19, 12, 5])\n",
    "\n",
    "\n",
    "np.setdiff1d(a, b) # this function returns sorted array of elements in a that do not appear in b\n",
    "  \n"
   ]
  },
  {
   "cell_type": "code",
   "execution_count": 69,
   "metadata": {},
   "outputs": [
    {
     "name": "stdout",
     "output_type": "stream",
     "text": [
      "[  55  120  160  160  180  190  200  300  350  350  398  440  460  520  560\n",
      "  580  600  800  800  898  950 1000 1020 1050 1090 1150 1150 1200 1250 1300\n",
      " 1350 1380 1399 1420 1443]\n"
     ]
    }
   ],
   "source": [
    "#task 4:\n",
    "#Total distance NYC-Key West- 1443 miles\n",
    "#Strategy - I created a list in which I will record the daily value that the odometer shows\n",
    "# Index [0] = 55 -> miles on day 1, index 1 shows I drove cumulative 120 miles\n",
    "# day 4\n",
    "\n",
    "miles_day=[55,120,160,160,180,190,200,300,350,350,398,440,460,520,560,580,600,800,800,898,950,\n",
    "           1000,1020,1050,1090,1150,1150,1200,1250,1300,1350,1380,1399,1420,1443]\n",
    "\n",
    "# I created a numpy array instead of a list\n",
    "miles_day_numpy=np.array(miles_day)\n",
    "print(miles_day_numpy)\n"
   ]
  },
  {
   "cell_type": "code",
   "execution_count": 70,
   "metadata": {},
   "outputs": [
    {
     "name": "stdout",
     "output_type": "stream",
     "text": [
      "Total days:  35\n"
     ]
    }
   ],
   "source": [
    "total_days=miles_day_numpy.shape[0] # this will print trip duration. The shape function was used to get length of numpy array\n",
    "print(\"Total days: \",total_days)\n"
   ]
  },
  {
   "cell_type": "code",
   "execution_count": 71,
   "metadata": {},
   "outputs": [
    {
     "name": "stdout",
     "output_type": "stream",
     "text": [
      "[ 55  65  40   0  20  10  10 100  50   0  48  42  20  60  40  20  20 200\n",
      "   0  98  52  50  20  30  40  60   0  50  50  50  50  30  19  21  23]\n"
     ]
    }
   ],
   "source": [
    "#display how many miles we drove each day\n",
    "#I used Numpy ediff1d- this function takes difference between each consecutive day\n",
    "firstday=miles_day_numpy[0]\n",
    "miles_each_day=np.ediff1d(miles_day_numpy,to_begin=firstday)\n",
    "print(miles_each_day)"
   ]
  },
  {
   "cell_type": "code",
   "execution_count": 72,
   "metadata": {},
   "outputs": [
    {
     "data": {
      "text/plain": [
       "array([0, 0, 0, 0])"
      ]
     },
     "execution_count": 72,
     "metadata": {},
     "output_type": "execute_result"
    }
   ],
   "source": [
    "# display all rest days - 4 off days\n",
    "miles_each_day[miles_each_day==0]"
   ]
  },
  {
   "cell_type": "code",
   "execution_count": 73,
   "metadata": {},
   "outputs": [
    {
     "name": "stdout",
     "output_type": "stream",
     "text": [
      "Total driven:  1443\n"
     ]
    }
   ],
   "source": [
    "#display the total miles using sum array function\n",
    "total_driven=miles_each_day.sum()\n",
    "print(\"Total driven: \",total_driven)"
   ]
  },
  {
   "cell_type": "code",
   "execution_count": 75,
   "metadata": {},
   "outputs": [
    {
     "name": "stdout",
     "output_type": "stream",
     "text": [
      "average driven daily:  41.2285714286\n"
     ]
    }
   ],
   "source": [
    "#Printing avg miles drove each day using m ean function\n",
    "avg=miles_each_day.mean()\n",
    "print(\"average driven daily: \",avg)"
   ]
  },
  {
   "cell_type": "code",
   "execution_count": 78,
   "metadata": {},
   "outputs": [
    {
     "name": "stdout",
     "output_type": "stream",
     "text": [
      "[[    1979.   7102100.      1512.       213. ]\n",
      " [    1980.   7071639.      1506.       213. ]\n",
      " [    1981.   7089241.      1309.       185. ]\n",
      " [    1982.   7109105.      1382.       194. ]\n",
      " [    1983.   7181224.      1424.       198. ]\n",
      " [    1984.   7234514.      1465.       203. ]\n",
      " [    1985.   7274054.      1326.       182. ]\n",
      " [    1986.   7319246.      1351.       185. ]\n",
      " [    1987.   7342476.      1447.       197. ]\n",
      " [    1988.   7353719.      1484.       202. ]\n",
      " [    1989.   7344175.      1402.       191. ]\n",
      " [    1990.   7335650.      1424.       194. ]\n",
      " [    1991.   7374501.      1469.       199. ]\n",
      " [    1992.   7428944.      1369.       184. ]\n",
      " [    1993.   7506166.      1368.5      182. ]\n",
      " [    1994.   7570458.      1357.7      179. ]\n",
      " [    1995.   7633040.      1325.7      174. ]\n",
      " [    1996.   7697812.      1297.9      169. ]\n",
      " [    1997.   7773443.      1205.5      155. ]\n",
      " [    1998.   7858259.      1219.5      155. ]\n",
      " [    1999.   7947660.      1237.2      156. ]\n",
      " [    2000.   8008278.      1240.4      155. ]\n",
      " [    2001.   8024963.5     1184.       148. ]\n",
      " [    2002.   8041649.      1135.6      141. ]\n",
      " [    2003.   8058334.5     1093.7      136. ]\n",
      " [    2004.   8075020.      1099.5      136. ]\n",
      " [    2005.   8091705.5     1138.       141. ]\n",
      " [    2006.   8108391.      1069.       132. ]\n",
      " [    2007.   8125076.5     1114.       137. ]\n",
      " [    2008.   8141762.      1098.       135. ]\n",
      " [    2009.   8158447.5     1007.5      123. ]\n",
      " [    2010.   8175133.      1039.       127. ]\n",
      " [    2011.   8284098.      1021.       123. ]\n",
      " [    2012.   8361179.      1009.1      121. ]\n",
      " [    2013.   8422460.      1006.1      119. ]\n",
      " [    2014.   8471990.       996.       118. ]\n",
      " [    2015.   8516502.      1009.       118. ]\n",
      " [    2016.   8537673.      1002.       117. ]\n",
      " [    2017.   8622698.       990.2      115. ]]\n"
     ]
    }
   ],
   "source": [
    "# task 5\n",
    "import pandas as pd\n",
    "import numpy as np\n",
    "\n",
    "# supress scientific notation\n",
    "np.set_printoptions(suppress = True)\n",
    "\n",
    "# read the data file from GitHub and convert to a NumPy ndarray object\n",
    "nyc_water = pd.read_csv('https://raw.githubusercontent.com/jtopor/DAV-5400/master/Week4/Water_Consumption_In_The_New_York_City.csv').as_matrix()\n",
    "\n",
    "# verify you have an ndarray object\n",
    "type(nyc_water)\n",
    "\n",
    "print(nyc_water)"
   ]
  },
  {
   "cell_type": "code",
   "execution_count": 105,
   "metadata": {},
   "outputs": [
    {
     "name": "stdout",
     "output_type": "stream",
     "text": [
      "1512.0\n"
     ]
    }
   ],
   "source": [
    "#5.1 What is the maximum yearly NYC consumption of water in millions of gallons per day?\n",
    "max_yearly_cons = np.max(nyc_water[:,2], axis=0)\n",
    "print(max_yearly_cons)\n"
   ]
  },
  {
   "cell_type": "code",
   "execution_count": 107,
   "metadata": {},
   "outputs": [
    {
     "name": "stdout",
     "output_type": "stream",
     "text": [
      "Number of calendar years 39\n"
     ]
    }
   ],
   "source": [
    "#5.2 How many calendar years are represented within this data set? NumPy's shape command is one way to find out.\n",
    "number_of_years = nyc_water.shape[0]\n",
    "print(\"Number of calendar years\",number_of_years)"
   ]
  },
  {
   "cell_type": "code",
   "execution_count": 96,
   "metadata": {},
   "outputs": [
    {
     "name": "stdout",
     "output_type": "stream",
     "text": [
      "Mean value of the per capita daily water consumption  160.307692308\n",
      "stdv value of the per capita daily water consumption  31.5189433037\n"
     ]
    }
   ],
   "source": [
    "#5.3 What is the mean and the standard deviation of the per capita daily water consumption?\n",
    "mean = np.mean(nyc_water[:,3], axis=0)\n",
    "std = np.std(nyc_water[:,3], axis=0)\n",
    "print(\"Mean value of the per capita daily water consumption \",mean)\n",
    "print(\"stdv value of the per capita daily water consumption \",std)"
   ]
  },
  {
   "cell_type": "code",
   "execution_count": 103,
   "metadata": {},
   "outputs": [
    {
     "name": "stdout",
     "output_type": "stream",
     "text": [
      "[ -30461.    17602.    19864.    72119.    53290.    39540.    45192.\n",
      "   23230.    11243.    -9544.    -8525.    38851.    54443.    77222.\n",
      "   64292.    62582.    64772.    75631.    84816.    89401.    60618.\n",
      "   16685.5   16685.5   16685.5   16685.5   16685.5   16685.5   16685.5\n",
      "   16685.5   16685.5   16685.5  108965.    77081.    61281.    49530.\n",
      "   44512.    21171.    85025. ]\n"
     ]
    }
   ],
   "source": [
    "#5.4 What is the increase or decrease in population from year to year? Use NumPy's `diff` function to create an array\n",
    "# of differences and save that to a variable called \"pop_diff\", then print that variable to the screen.\n",
    "#all negative values will describe a decrease in population\n",
    "pop_diff = np.diff(nyc_water[:,1])\n",
    "\n",
    "print(pop_diff)"
   ]
  }
 ],
 "metadata": {
  "kernelspec": {
   "display_name": "Python 3",
   "language": "python",
   "name": "python3"
  },
  "language_info": {
   "codemirror_mode": {
    "name": "ipython",
    "version": 3
   },
   "file_extension": ".py",
   "mimetype": "text/x-python",
   "name": "python",
   "nbconvert_exporter": "python",
   "pygments_lexer": "ipython3",
   "version": "3.6.2"
  }
 },
 "nbformat": 4,
 "nbformat_minor": 2
}
